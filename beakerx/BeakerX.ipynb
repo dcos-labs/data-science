{
 "cells": [
  {
   "cell_type": "markdown",
   "metadata": {},
   "source": [
    "# BeakerX with Spark, HDFS, and UI Tools"
   ]
  },
  {
   "cell_type": "markdown",
   "metadata": {},
   "source": [
    "This assumes that Spark and HDFS is installed on the DC/OS cluster using the default settings. Directions can be found on video's four and six from this video series:\n",
    "https://www.youtube.com/watch?v=xm9gM9zeTyY&list=PL-cRvJ6sAbfh0CT7RCifAb92msHUt1lB8"
   ]
  },
  {
   "cell_type": "markdown",
   "metadata": {},
   "source": [
    "It also assumes that you've done the following in a Jupyter terminal."
   ]
  },
  {
   "cell_type": "raw",
   "metadata": {},
   "source": [
    "git clone https://github.com/dcos-labs/data-science.git\n",
    "cd data-science/beakerx/"
   ]
  },
  {
   "cell_type": "markdown",
   "metadata": {},
   "source": [
    "Open this notebook in Jupyterlab and run from there."
   ]
  },
  {
   "cell_type": "markdown",
   "metadata": {},
   "source": [
    "### Using a UI to select a sample size\n",
    "This is one simple example of many UI's available in BeakerX<br>"
   ]
  },
  {
   "cell_type": "code",
   "execution_count": 1,
   "metadata": {},
   "outputs": [
    {
     "data": {
      "application/vnd.jupyter.widget-view+json": {
       "model_id": "4a805442-87c4-4981-9d6d-395b180b5de4",
       "version_major": 2,
       "version_minor": 0
      },
      "method": "display_data"
     },
     "metadata": {},
     "output_type": "display_data"
    }
   ],
   "source": [
    "%%groovy\n",
    "import com.twosigma.beakerx.widget.IntSlider\n",
    "\n",
    "sample_size = new IntSlider()\n",
    "sample_size.min = 100\n",
    "sample_size.max = 10000\n",
    "sample_size.step = 100\n",
    "sample_size.value = 5000\n",
    "sample_size"
   ]
  },
  {
   "cell_type": "markdown",
   "metadata": {},
   "source": [
    "We can see the value has been set in the Groovy kernel."
   ]
  },
  {
   "cell_type": "code",
   "execution_count": 2,
   "metadata": {},
   "outputs": [
    {
     "data": {
      "text/plain": [
       "6600"
      ]
     },
     "execution_count": 2,
     "metadata": {},
     "output_type": "execute_result"
    }
   ],
   "source": [
    "%%groovy\n",
    "beakerx.sample_size = sample_size.value"
   ]
  },
  {
   "cell_type": "markdown",
   "metadata": {},
   "source": [
    "It is also available in the Scala Kernel. This works in both directions."
   ]
  },
  {
   "cell_type": "code",
   "execution_count": 3,
   "metadata": {},
   "outputs": [
    {
     "data": {
      "text/plain": [
       "6600"
      ]
     },
     "execution_count": 3,
     "metadata": {},
     "output_type": "execute_result"
    }
   ],
   "source": [
    "beakerx.sample_size"
   ]
  },
  {
   "cell_type": "markdown",
   "metadata": {},
   "source": [
    "It is also available in other kernels. Here is a python example."
   ]
  },
  {
   "cell_type": "code",
   "execution_count": 4,
   "metadata": {},
   "outputs": [
    {
     "data": {
      "text/plain": [
       "6600"
      ]
     },
     "execution_count": 1,
     "metadata": {},
     "output_type": "execute_result"
    }
   ],
   "source": [
    "%%python\n",
    "from beakerx.object import beakerx\n",
    "beakerx.sample_size"
   ]
  },
  {
   "cell_type": "markdown",
   "metadata": {},
   "source": [
    "Moving variables and data from kernel to kernel can greatly simplify code. It makes it easier to use the best tools for a specific job. "
   ]
  },
  {
   "cell_type": "markdown",
   "metadata": {},
   "source": [
    "We'll use the sample size given above to generate a small set of records and load them into HDFS."
   ]
  },
  {
   "cell_type": "code",
   "execution_count": 6,
   "metadata": {},
   "outputs": [
    {
     "data": {
      "text/plain": [
       "0"
      ]
     },
     "execution_count": 6,
     "metadata": {},
     "output_type": "execute_result"
    }
   ],
   "source": [
    "import sys.process._\n",
    "val runme = \"./generate_example.py somedata \" + beakerx.sample_size\n",
    "runme !"
   ]
  },
  {
   "cell_type": "markdown",
   "metadata": {},
   "source": [
    "### Loading class\n",
    "Many of the most used Java classes are stored locally so you won't need to find and download them."
   ]
  },
  {
   "cell_type": "code",
   "execution_count": 7,
   "metadata": {},
   "outputs": [
    {
     "data": {
      "application/vnd.jupyter.widget-view+json": {
       "model_id": "8832726e-ca81-4041-a79e-686187ac6914",
       "version_major": 2,
       "version_minor": 0
      },
      "method": "display_data"
     },
     "metadata": {},
     "output_type": "display_data"
    },
    {
     "data": {
      "application/vnd.jupyter.widget-view+json": {
       "model_id": "1a023ab4-ebbb-43d0-bb0c-3d9767f1b37e",
       "version_major": 2,
       "version_minor": 0
      },
      "method": "display_data"
     },
     "metadata": {},
     "output_type": "display_data"
    },
    {
     "data": {
      "application/vnd.jupyter.widget-view+json": {
       "model_id": "7a79fdf1-c99f-426a-a12d-70d464299d0e",
       "version_major": 2,
       "version_minor": 0
      },
      "method": "display_data"
     },
     "metadata": {},
     "output_type": "display_data"
    },
    {
     "data": {
      "application/vnd.jupyter.widget-view+json": {
       "model_id": "b63fc87f-b253-40de-a271-682390b1b8a0",
       "version_major": 2,
       "version_minor": 0
      },
      "method": "display_data"
     },
     "metadata": {},
     "output_type": "display_data"
    },
    {
     "data": {
      "application/vnd.jupyter.widget-view+json": {
       "model_id": "4efb34a9-4f2d-4009-a899-c49f25638cbf",
       "version_major": 2,
       "version_minor": 0
      },
      "method": "display_data"
     },
     "metadata": {},
     "output_type": "display_data"
    },
    {
     "data": {
      "application/vnd.jupyter.widget-view+json": {
       "model_id": "498bf221-a006-46ea-9ac2-42a60991b794",
       "version_major": 2,
       "version_minor": 0
      },
      "method": "display_data"
     },
     "metadata": {},
     "output_type": "display_data"
    },
    {
     "data": {
      "application/vnd.jupyter.widget-view+json": {
       "model_id": "1c127e8c-0386-4eea-b732-dd350a1ca0f1",
       "version_major": 2,
       "version_minor": 0
      },
      "method": "display_data"
     },
     "metadata": {},
     "output_type": "display_data"
    },
    {
     "data": {
      "application/vnd.jupyter.widget-view+json": {
       "model_id": "a8f5957e-a5c2-4396-ac87-ef053cfd00b1",
       "version_major": 2,
       "version_minor": 0
      },
      "method": "display_data"
     },
     "metadata": {},
     "output_type": "display_data"
    },
    {
     "data": {
      "application/vnd.jupyter.widget-view+json": {
       "model_id": "2b1661af-6599-46cb-baf3-5f2c4df202dd",
       "version_major": 2,
       "version_minor": 0
      },
      "method": "display_data"
     },
     "metadata": {},
     "output_type": "display_data"
    },
    {
     "data": {
      "application/vnd.jupyter.widget-view+json": {
       "model_id": "e4408217-86ef-46cd-99fc-94722e002da6",
       "version_major": 2,
       "version_minor": 0
      },
      "method": "display_data"
     },
     "metadata": {},
     "output_type": "display_data"
    },
    {
     "data": {
      "application/vnd.jupyter.widget-view+json": {
       "model_id": "955f3c29-07b3-4189-b5c4-f76113c96f16",
       "version_major": 2,
       "version_minor": 0
      },
      "method": "display_data"
     },
     "metadata": {},
     "output_type": "display_data"
    }
   ],
   "source": [
    "%classpath add jar /mnt/mesos/sandbox\n",
    "%classpath add jar /opt/spark/jars/*\n",
    "%classpath add jar /opt/hadoop/share/hadoop/common/*\n",
    "%classpath add jar /opt/hadoop/share/hadoop/common/lib/*\n",
    "%classpath add jar /opt/hadoop/share/hadoop/hdfs/*\n",
    "%classpath add jar /opt/hadoop/share/hadoop/hdfs/lib/*\n",
    "%classpath add jar /opt/hadoop/share/hadoop/yarn/*\n",
    "%classpath add jar /opt/hadoop/share/hadoop/yarn/lib/*\n",
    "%classpath add jar /opt/hadoop/share/hadoop/mapreduce/*\n",
    "%classpath add jar /opt/hadoop/share/hadoop/mapreduce/lib/*\n",
    "%classpath add jar /opt/hadoop/share/hadoop/tools/lib/*"
   ]
  },
  {
   "cell_type": "markdown",
   "metadata": {},
   "source": [
    "### Use a GUI to connect to Spark\n",
    "#### These are the settings if we used code to connect to spark.\n",
    "Note that the settings do not require finding node ip's, etc.<br>\n",
    "The master url is the default for DC/OS.<br>"
   ]
  },
  {
   "cell_type": "raw",
   "metadata": {},
   "source": [
    "val spark = SparkSession\n",
    "        .builder\n",
    "        .master(\"mesos://leader.mesos:5050\")\n",
    "        .appName(\"BeakerX Demo\")\n",
    "        .config(\"spark.executor.cores\", 1)\n",
    "        .config(\"spark.mesos.containerizer\", \"mesos\")\n",
    "        .config(\"spark.mesos.executor.docker.image\", \"mesosphere/mesosphere-data-toolkit:1.0.0-1.0.0\")\n",
    "        .config(\"spark.cores.max\", \"3\")\n",
    "        .getOrCreate()"
   ]
  },
  {
   "cell_type": "markdown",
   "metadata": {},
   "source": [
    "#### We will use the GUI instead of code.\n",
    "One advantage of using the UI versus code is there are GUI metrics provided. <br>\n",
    "It also allows you easily create, save, and select mulpiple connections strings. <br>\n",
    "Run start and make selections that match the above. Delete entries that do not match."
   ]
  },
  {
   "cell_type": "code",
   "execution_count": 8,
   "metadata": {},
   "outputs": [
    {
     "data": {
      "application/vnd.jupyter.widget-view+json": {
       "model_id": "909e9ce0-7138-41f3-87b2-2f208bdbc45d",
       "version_major": 2,
       "version_minor": 0
      },
      "method": "display_data"
     },
     "metadata": {},
     "output_type": "display_data"
    }
   ],
   "source": [
    "%%spark"
   ]
  },
  {
   "cell_type": "markdown",
   "metadata": {},
   "source": [
    "Load the spark libraries"
   ]
  },
  {
   "cell_type": "code",
   "execution_count": 9,
   "metadata": {},
   "outputs": [
    {
     "data": {
      "text/plain": [
       "import org.apache.spark.ml.Pipeline\n",
       "import org.apache.spark.ml.evaluation.RegressionEvaluator\n",
       "import org.apache.spark.ml.feature.{StringIndexer, VectorAssembler}\n",
       "import org.apache.spark.ml.regression.GBTRegressor\n",
       "import org.apache.spark.sql.types.{DoubleType, StringType, StructField, StructType, IntegerType}\n",
       "import org.apache.spark.sql.{Encoders, SparkSession}\n",
       "import org.apache.spark.ml.classification.LogisticRegression\n",
       "import scala.math.{pow, sqrt}\n"
      ]
     },
     "execution_count": 9,
     "metadata": {},
     "output_type": "execute_result"
    }
   ],
   "source": [
    "import org.apache.spark.ml.Pipeline\n",
    "import org.apache.spark.ml.evaluation.RegressionEvaluator\n",
    "import org.apache.spark.ml.feature.{StringIndexer, VectorAssembler}\n",
    "import org.apache.spark.ml.regression.GBTRegressor\n",
    "import org.apache.spark.sql.types.{DoubleType, StringType, StructField, StructType, IntegerType}\n",
    "import org.apache.spark.sql.{Encoders, SparkSession}\n",
    "import org.apache.spark.ml.classification.LogisticRegression\n",
    "import scala.math.{ pow, sqrt }"
   ]
  },
  {
   "cell_type": "markdown",
   "metadata": {},
   "source": [
    "Load data from HDFS that was generated by the above code."
   ]
  },
  {
   "cell_type": "code",
   "execution_count": 10,
   "metadata": {},
   "outputs": [
    {
     "data": {
      "application/vnd.jupyter.widget-view+json": {
       "model_id": "c87074f1-61f7-425a-95c2-ea7e066a82a8",
       "version_major": 2,
       "version_minor": 0
      },
      "method": "display_data"
     },
     "metadata": {},
     "output_type": "display_data"
    }
   ],
   "source": [
    "val schemaStruct = StructType(\n",
    "  StructField(\"x1\", DoubleType) ::\n",
    "  StructField(\"x2\", DoubleType) ::\n",
    "  StructField(\"y\", IntegerType) :: Nil\n",
    "  )\n",
    "\n",
    "val df = spark.read\n",
    "  .option(\"header\", true)\n",
    "  .schema(schemaStruct)\n",
    "  .csv(\"hdfs://name-0-node.hdfs.autoip.dcos.thisdcos.directory:9001/somedata.csv\")\n",
    "  .na.drop()"
   ]
  },
  {
   "cell_type": "markdown",
   "metadata": {},
   "source": [
    "Display the results with a table view. Click on the ellipses in the column headers for filter, sorting, and other options."
   ]
  },
  {
   "cell_type": "code",
   "execution_count": 11,
   "metadata": {},
   "outputs": [
    {
     "data": {
      "application/vnd.jupyter.widget-view+json": {
       "model_id": "",
       "version_major": 2,
       "version_minor": 0
      },
      "method": "display_data"
     },
     "metadata": {},
     "output_type": "display_data"
    },
    {
     "data": {
      "application/vnd.jupyter.widget-view+json": {
       "model_id": "89b868bd-3a3e-4010-8ce7-a5ec85fc0a09",
       "version_major": 2,
       "version_minor": 0
      },
      "method": "display_data"
     },
     "metadata": {},
     "output_type": "display_data"
    }
   ],
   "source": [
    "df.display()"
   ]
  },
  {
   "cell_type": "markdown",
   "metadata": {},
   "source": [
    "Run a logistic regression and get results."
   ]
  },
  {
   "cell_type": "code",
   "execution_count": 12,
   "metadata": {},
   "outputs": [
    {
     "data": {
      "application/vnd.jupyter.widget-view+json": {
       "model_id": "",
       "version_major": 2,
       "version_minor": 0
      },
      "method": "display_data"
     },
     "metadata": {},
     "output_type": "display_data"
    },
    {
     "data": {
      "text/plain": [
       "0.49961919268849964"
      ]
     },
     "execution_count": 12,
     "metadata": {},
     "output_type": "execute_result"
    }
   ],
   "source": [
    "// Break data into training and test\n",
    "val Array(trainingData, testData) = df.randomSplit(Array(0.8, 0.2))\n",
    "val labelColumn = \"y\"\n",
    "\n",
    "// Create assembler\n",
    "val assembler = new VectorAssembler()\n",
    "  .setInputCols(Array(\"x1\", \"x2\"))\n",
    "  .setOutputCol(\"features\")\n",
    "\n",
    "// logistic regression model\n",
    "val lr = new LogisticRegression()\n",
    "  .setLabelCol(labelColumn)\n",
    "  .setFeaturesCol(\"features\")\n",
    "  .setPredictionCol(\"Predicted\" + labelColumn)\n",
    "  .setMaxIter(100)\n",
    "  .setRegParam(0.1)\n",
    "  .setElasticNetParam(0.8)\n",
    "\n",
    "// Run simple pipeline\n",
    "val stages = Array(assembler, lr)\n",
    "val pipeline = new Pipeline().setStages(stages)\n",
    "val model = pipeline.fit(trainingData)\n",
    "\n",
    "//We'll make predictions using the model and the test data and get accuracy\n",
    "val predictions = model.transform(testData)\n",
    "predictions.filter(\"y == Predictedy\").count()/predictions.count().toDouble"
   ]
  },
  {
   "cell_type": "markdown",
   "metadata": {},
   "source": [
    "### Prep data and plot"
   ]
  },
  {
   "cell_type": "code",
   "execution_count": 13,
   "metadata": {},
   "outputs": [
    {
     "data": {
      "application/vnd.jupyter.widget-view+json": {
       "model_id": "",
       "version_major": 2,
       "version_minor": 0
      },
      "method": "display_data"
     },
     "metadata": {},
     "output_type": "display_data"
    },
    {
     "name": "stdout",
     "output_type": "stream",
     "text": [
      " \n"
     ]
    },
    {
     "data": {
      "application/vnd.jupyter.widget-view+json": {
       "model_id": "abd742cc-c229-4d92-afdf-002603d7d61d",
       "version_major": 2,
       "version_minor": 0
      },
      "method": "display_data"
     },
     "metadata": {},
     "output_type": "display_data"
    }
   ],
   "source": [
    "def flatten(l: List[Any]): List[Any] = {\n",
    "    def _flatten(res: List[Any], rem: List[Any]):List[Any] = rem match {\n",
    "        case Nil => res\n",
    "        case (h:List[_])::Nil => _flatten(res, h)\n",
    "        case (h:List[_])::tail => _flatten(res:::h, tail)\n",
    "        case h::tail => _flatten(res:::List(h), tail)\n",
    "    }\n",
    "    _flatten(List(), l)\n",
    "}\n",
    "\n",
    "val dfPOS = df.filter(\"y == 1\")\n",
    "val dfNEG = df.filter(\"y == 0\")\n",
    "\n",
    "val plotPOSx1 = flatten(dfPOS.select(\"x1\").collect().map(_ (0)).toList).map(_.toString.toDouble)\n",
    "val plotPOSx2 = flatten(dfPOS.select(\"x2\").collect().map(_ (0)).toList).map(_.toString.toDouble)\n",
    "val plotNEGx1 = flatten(dfNEG.select(\"x1\").collect().map(_ (0)).toList).map(_.toString.toDouble)\n",
    "val plotNEGx2 = flatten(dfNEG.select(\"x2\").collect().map(_ (0)).toList).map(_.toString.toDouble)\n",
    "\n",
    "println(\" \")\n",
    "\n",
    "val plot = new Plot { title = \"Plot of raw data\" }\n",
    "\n",
    "val list = List(\n",
    "    new Points {\n",
    "        x = plotPOSx1.take(300)\n",
    "        y = plotPOSx2.take(300)\n",
    "        size = 5.0\n",
    "        color = Color.red\n",
    "    },\n",
    "    new Points {\n",
    "        x = plotNEGx1.take(300)\n",
    "        y = plotNEGx2.take(300)\n",
    "        size = 5.0\n",
    "        color = Color.blue\n",
    "    }\n",
    ")\n",
    "\n",
    "plot.add(list)"
   ]
  },
  {
   "cell_type": "markdown",
   "metadata": {},
   "source": [
    "Easy to see why a linear partition won't work.<br>\n",
    "A useful transform is obvious."
   ]
  },
  {
   "cell_type": "code",
   "execution_count": 14,
   "metadata": {},
   "outputs": [
    {
     "data": {
      "application/vnd.jupyter.widget-view+json": {
       "model_id": "7d847bc0-6c11-4c4e-a74e-96f7e6b89551",
       "version_major": 2,
       "version_minor": 0
      },
      "method": "display_data"
     },
     "metadata": {},
     "output_type": "display_data"
    }
   ],
   "source": [
    "// Transform data and replot\n",
    "val ax1 = plotPOSx1.take(300).map(pow(_,2))\n",
    "val ax2 = plotPOSx2.take(300).map(pow(_,2))\n",
    "val bx1 = plotNEGx1.take(300).map(pow(_,2))\n",
    "val bx2 = plotNEGx2.take(300).map(pow(_,2))\n",
    "val plot = new Plot { title = \"Plot of data with features quared\" }\n",
    "\n",
    "val list = List(\n",
    "    new Points {\n",
    "        x = ax1\n",
    "        y = ax2\n",
    "        size = 5.0\n",
    "        color = Color.red\n",
    "    },\n",
    "    new Points {\n",
    "        x = bx1\n",
    "        y = bx2\n",
    "        size = 5.0\n",
    "        color = Color.blue\n",
    "    }\n",
    ")\n",
    "\n",
    "plot.add(list)"
   ]
  },
  {
   "cell_type": "markdown",
   "metadata": {},
   "source": [
    "This should be easy for a logistic regression to classify."
   ]
  },
  {
   "cell_type": "markdown",
   "metadata": {},
   "source": [
    "Redo the model with the transformed data."
   ]
  },
  {
   "cell_type": "code",
   "execution_count": 15,
   "metadata": {},
   "outputs": [
    {
     "data": {
      "application/vnd.jupyter.widget-view+json": {
       "model_id": "",
       "version_major": 2,
       "version_minor": 0
      },
      "method": "display_data"
     },
     "metadata": {},
     "output_type": "display_data"
    },
    {
     "data": {
      "text/plain": [
       "0.9712286158631416"
      ]
     },
     "execution_count": 15,
     "metadata": {},
     "output_type": "execute_result"
    }
   ],
   "source": [
    "val dfT = df.withColumn(\"w1\", ((df.col(\"x1\")*df.col(\"x1\")))).withColumn(\"w2\", ((df.col(\"x2\")*df.col(\"x2\"))))\n",
    "val Array(trainingData, testData) = dfT.randomSplit(Array(0.8, 0.2))\n",
    "val labelColumn = \"y\"\n",
    "\n",
    "val assembler = new VectorAssembler()\n",
    "  .setInputCols(Array(\"w1\", \"w2\"))\n",
    "  .setOutputCol(\"features\")\n",
    "\n",
    "val lr = new LogisticRegression()\n",
    "  .setLabelCol(labelColumn)\n",
    "  .setFeaturesCol(\"features\")\n",
    "  .setPredictionCol(\"Predicted\" + labelColumn)\n",
    "  .setMaxIter(100)\n",
    "  .setRegParam(0.1)\n",
    "  .setElasticNetParam(0.8)\n",
    "\n",
    "val stages = Array(assembler, lr)\n",
    "\n",
    "val pipeline = new Pipeline().setStages(stages)\n",
    "\n",
    "val model = pipeline.fit(trainingData)\n",
    "\n",
    "//We'll make predictions using the model and the test data\n",
    "val predictions = model.transform(testData)\n",
    "predictions.filter(\"y == Predictedy\").count()/predictions.count().toDouble"
   ]
  },
  {
   "cell_type": "markdown",
   "metadata": {},
   "source": [
    "As expected the model works much better. Accuracy is only one useful metric. An easy way to create a confusion matrix is in scikit learn.<br>\n",
    "We can pass the data to beakerx and use it in python."
   ]
  },
  {
   "cell_type": "code",
   "execution_count": 16,
   "metadata": {},
   "outputs": [
    {
     "data": {
      "application/vnd.jupyter.widget-view+json": {
       "model_id": "de122696-1412-4385-a28b-405ccf957f93",
       "version_major": 2,
       "version_minor": 0
      },
      "method": "display_data"
     },
     "metadata": {},
     "output_type": "display_data"
    },
    {
     "name": "stdout",
     "output_type": "stream",
     "text": [
      "Data moved to BeakerX\n"
     ]
    },
    {
     "data": {
      "text/plain": [
       "null"
      ]
     },
     "execution_count": 16,
     "metadata": {},
     "output_type": "execute_result"
    }
   ],
   "source": [
    "val evalData = predictions.select(\"y\", \"Predictedy\").head(predictions.count().toInt)\n",
    "beakerx.evalData = evalData\n",
    "println(\"Data moved to BeakerX\")"
   ]
  },
  {
   "cell_type": "markdown",
   "metadata": {},
   "source": [
    "Now the data is accessable to python and scikit learn."
   ]
  },
  {
   "cell_type": "code",
   "execution_count": 17,
   "metadata": {},
   "outputs": [
    {
     "data": {
      "text/plain": [
       "array([[597,  27],\n",
       "       [ 10, 652]])"
      ]
     },
     "execution_count": 2,
     "metadata": {},
     "output_type": "execute_result"
    }
   ],
   "source": [
    "%%python\n",
    "from beakerx.object import beakerx\n",
    "import pandas as pd\n",
    "import matplotlib.pyplot as plt\n",
    "import seaborn as sns\n",
    "from sklearn.metrics import confusion_matrix\n",
    "\n",
    "dfEval = pd.DataFrame(' '.join(beakerx.evalData).replace('[','').replace(']','').split())[0].str.split(',', expand = True)\n",
    "cm = confusion_matrix(pd.to_numeric(dfEval[0], downcast='integer'),pd.to_numeric(dfEval[1], downcast='integer'))\n",
    "cm"
   ]
  },
  {
   "cell_type": "markdown",
   "metadata": {},
   "source": [
    "Or plot the confusion matrix<br>\n",
    "This is an example of using sklearn libraries for models that where created and run in spark."
   ]
  },
  {
   "cell_type": "code",
   "execution_count": 18,
   "metadata": {},
   "outputs": [
    {
     "data": {
      "text/plain": [
       "Text(0.5, 1.0, 'Confusion Matrix')"
      ]
     },
     "execution_count": 3,
     "metadata": {},
     "output_type": "execute_result"
    },
    {
     "data": {
      "image/png": "[encoded data removed]",
      "text/plain": [
       "<Figure size 432x288 with 2 Axes>"
      ]
     },
     "metadata": {
      "needs_background": "light"
     },
     "output_type": "display_data"
    }
   ],
   "source": [
    "%%python\n",
    "ax = plt.subplot()\n",
    "sns.heatmap(cm, annot=True, ax=ax, fmt='g')\n",
    "ax.set_xlabel('Predicted labels')\n",
    "ax.set_ylabel('True labels')\n",
    "ax.set_title('Confusion Matrix')"
   ]
  },
  {
   "cell_type": "markdown",
   "metadata": {},
   "source": [
    "From here we can easy get Precision, Recall, and f1."
   ]
  }
 ],
 "metadata": {
  "kernelspec": {
   "display_name": "Scala",
   "language": "scala",
   "name": "scala"
  },
  "language_info": {
   "codemirror_mode": "text/x-scala",
   "file_extension": ".scala",
   "mimetype": "",
   "name": "Scala",
   "nbconverter_exporter": "",
   "version": "2.11.12"
  }
 },
 "nbformat": 4,
 "nbformat_minor": 2
}
