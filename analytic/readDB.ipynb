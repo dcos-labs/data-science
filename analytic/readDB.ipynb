{
 "cells": [
  {
   "cell_type": "markdown",
   "metadata": {},
   "source": [
    "# Read data from RDBMS\n",
    "Often data is stored in a database. This example is uses Cockroach. Cockroach is scalable database that accepts sytax similar to PostgreSQL."
   ]
  },
  {
   "cell_type": "code",
   "execution_count": 1,
   "metadata": {},
   "outputs": [],
   "source": [
    "import re\n",
    "import subprocess\n",
    "from pandas import DataFrame\n",
    "import seaborn as sns\n",
    "import psycopg2"
   ]
  },
  {
   "cell_type": "markdown",
   "metadata": {},
   "source": [
    "### Create a connection to CockroachDB\n",
    "The host and port are determined by looking at the Endpoints for PG in the Cockroach Services Tab."
   ]
  },
  {
   "cell_type": "code",
   "execution_count": 2,
   "metadata": {},
   "outputs": [],
   "source": [
    "conn = psycopg2.connect(\n",
    "    database='tx',\n",
    "    user='test_user',\n",
    "    port='26257',\n",
    "    host='10.0.7.250' # Read this from Cockroach endpoint\n",
    ")\n",
    "conn.set_session(autocommit=True)\n",
    "cur = conn.cursor()"
   ]
  },
  {
   "cell_type": "markdown",
   "metadata": {},
   "source": [
    "### Fetch Data with SQL\n",
    "Read data from Cockroach using SQL. Convert to a Pandas dataframe. Working with SQL to manipulate data is typically more scalable and simplier than manipulating data with Pandas directly."
   ]
  },
  {
   "cell_type": "code",
   "execution_count": 3,
   "metadata": {},
   "outputs": [
    {
     "data": {
      "text/html": [
       "<div>\n",
       "<style scoped>\n",
       "    .dataframe tbody tr th:only-of-type {\n",
       "        vertical-align: middle;\n",
       "    }\n",
       "\n",
       "    .dataframe tbody tr th {\n",
       "        vertical-align: top;\n",
       "    }\n",
       "\n",
       "    .dataframe thead th {\n",
       "        text-align: right;\n",
       "    }\n",
       "</style>\n",
       "<table border=\"1\" class=\"dataframe\">\n",
       "  <thead>\n",
       "    <tr style=\"text-align: right;\">\n",
       "      <th></th>\n",
       "      <th>launched_year</th>\n",
       "      <th>backers</th>\n",
       "    </tr>\n",
       "  </thead>\n",
       "  <tbody>\n",
       "    <tr>\n",
       "      <th>0</th>\n",
       "      <td>2009</td>\n",
       "      <td>43632</td>\n",
       "    </tr>\n",
       "    <tr>\n",
       "      <th>1</th>\n",
       "      <td>2010</td>\n",
       "      <td>405976</td>\n",
       "    </tr>\n",
       "    <tr>\n",
       "      <th>2</th>\n",
       "      <td>2011</td>\n",
       "      <td>1392885</td>\n",
       "    </tr>\n",
       "    <tr>\n",
       "      <th>3</th>\n",
       "      <td>2012</td>\n",
       "      <td>4340992</td>\n",
       "    </tr>\n",
       "    <tr>\n",
       "      <th>4</th>\n",
       "      <td>2013</td>\n",
       "      <td>6288172</td>\n",
       "    </tr>\n",
       "  </tbody>\n",
       "</table>\n",
       "</div>"
      ],
      "text/plain": [
       "   launched_year  backers\n",
       "0           2009    43632\n",
       "1           2010   405976\n",
       "2           2011  1392885\n",
       "3           2012  4340992\n",
       "4           2013  6288172"
      ]
     },
     "execution_count": 3,
     "metadata": {},
     "output_type": "execute_result"
    }
   ],
   "source": [
    "cur.execute(\"\"\"WITH k AS\n",
    "(\n",
    "    SELECT DATE_TRUNC('YEAR', launched) launched_year,\n",
    "        backers, usd_pledged pledged,\n",
    "        MAX(DATE_TRUNC('YEAR', launched)) OVER (PARTITION BY 1) mx_year\n",
    "    FROM kickstart k\n",
    "    WHERE state NOT IN ('live', 'undefined')\n",
    ")\n",
    "SELECT EXTRACT('year', launched_year) launched_year,\n",
    "   SUM(backers) backers\n",
    "FROM k\n",
    "WHERE launched_year < mx_year\n",
    "GROUP BY launched_year\n",
    "ORDER BY launched_year\n",
    "\n",
    "\"\"\")\n",
    "\n",
    "df = DataFrame(cur.fetchall())\n",
    "df.columns = [desc[0] for desc in cur.description]\n",
    "df.head()"
   ]
  },
  {
   "cell_type": "markdown",
   "metadata": {},
   "source": [
    "### Simple plot\n",
    "This is the simpliest of plots."
   ]
  },
  {
   "cell_type": "code",
   "execution_count": 4,
   "metadata": {},
   "outputs": [
    {
     "data": {
      "text/plain": [
       "<matplotlib.axes._subplots.AxesSubplot at 0x7f3ba678bbe0>"
      ]
     },
     "execution_count": 4,
     "metadata": {},
     "output_type": "execute_result"
    },
    {
     "data": {
      "image/png": "[encoded data removed]",
      "text/plain": [
       "<Figure size 432x288 with 1 Axes>"
      ]
     },
     "metadata": {
      "needs_background": "light"
     },
     "output_type": "display_data"
    }
   ],
   "source": [
    "sns.pointplot(x=\"launched_year\", y=\"backers\", data=df)"
   ]
  },
  {
   "cell_type": "markdown",
   "metadata": {},
   "source": [
    "### Jupyter vs Dedicated Dashboard"
   ]
  },
  {
   "cell_type": "markdown",
   "metadata": {},
   "source": [
    "|     Feature                                         | Jupyter | Dedicated Dashboard |\n",
    "|-----------------------------------------------------|---------|---------------------|\n",
    "| Unlimited Customization                             |    X    |          _          |\n",
    "| Unlimited Complexity                                |    X    |          _          |\n",
    "| Easily automate                                     |    X    |          _          |\n",
    "| Codeless Visualizations                             |    _    |          X          |\n",
    "| Display Many Charts per Screen                      |    _    |          X          |\n",
    "| Easy for non-technical people to access             |    _    |          X          |\n",
    "| Easy to embed into 3rd party pages (e.g. Wordpress) |    _    |          X          |"
   ]
  }
 ],
 "metadata": {
  "kernelspec": {
   "display_name": "Data",
   "language": "python",
   "name": "data"
  },
  "language_info": {
   "codemirror_mode": {
    "name": "ipython",
    "version": 3
   },
   "file_extension": ".py",
   "mimetype": "text/x-python",
   "name": "python",
   "nbconvert_exporter": "python",
   "pygments_lexer": "ipython3",
   "version": "3.6.7"
  }
 },
 "nbformat": 4,
 "nbformat_minor": 2
}
