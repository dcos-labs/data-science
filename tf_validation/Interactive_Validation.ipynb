{
 "cells": [
  {
   "cell_type": "code",
   "execution_count": null,
   "metadata": {},
   "outputs": [],
   "source": [
    "import tempfile, urllib, zipfile, warnings, time, sys, os\n",
    "import tensorflow as tf\n",
    "import tensorflow_data_validation as tfdv\n",
    "from __future__ import print_function\n",
    "from tensorflow.python.lib.io import file_io\n",
    "from google.protobuf import text_format\n",
    "tf.logging.set_verbosity(tf.logging.ERROR)\n",
    "warnings.filterwarnings('ignore')\n",
    "assert sys.version_info.major is 2, 'Oops, not running Python 2'\n",
    "\n",
    "BASE_DIR = '/tmp/'\n",
    "DATA_DIR = os.path.join(BASE_DIR, 'data')\n",
    "OUTPUT_DIR = os.path.join(BASE_DIR, 'chicago_taxi_output')\n",
    "TRAIN_DATA = os.path.join(DATA_DIR, 'train', 'data.csv')\n",
    "TRAIN_DATAX = os.path.join(DATA_DIR, '', 'data.csv')\n",
    "EVAL_DATA = os.path.join(DATA_DIR, 'eval', 'data.csv')\n",
    "SERVING_DATA = os.path.join(DATA_DIR, 'serving', 'data.csv')\n",
    "\n",
    "ZIP, HEADERS = urllib.urlretrieve('https://storage.googleapis.com/tfx-colab-datasets/chicago_data.zip')\n",
    "zipfile.ZipFile(ZIP).extractall(BASE_DIR)\n",
    "zipfile.ZipFile(ZIP).close()\n",
    "\n",
    "train_stats = tfdv.generate_statistics_from_csv(data_location=TRAIN_DATA)\n",
    "tfdv.visualize_statistics(train_stats)"
   ]
  },
  {
   "cell_type": "code",
   "execution_count": null,
   "metadata": {},
   "outputs": [],
   "source": [
    "SCHEMA = tfdv.infer_schema(statistics=train_stats)\n",
    "tfdv.display_schema(schema=SCHEMA)"
   ]
  },
  {
   "cell_type": "code",
   "execution_count": null,
   "metadata": {},
   "outputs": [],
   "source": [
    "S = str(int(time.time()))\n",
    "FILE_VERSION = '/tmp/payment_schema_' + S + '.pbtxt'\n",
    "FILE_VERSION"
   ]
  },
  {
   "cell_type": "code",
   "execution_count": null,
   "metadata": {},
   "outputs": [],
   "source": [
    "tfdv.write_schema_text(SCHEMA, FILE_VERSION)\n",
    "READ_SCHEMA = tfdv.load_schema_text(FILE_VERSION)\n",
    "ANOMALIES = tfdv.validate_statistics(statistics=train_stats, schema=READ_SCHEMA)\n",
    "tfdv.display_anomalies(ANOMALIES)"
   ]
  }
 ],
 "metadata": {
  "kernelspec": {
   "display_name": "Python 2",
   "language": "python",
   "name": "python2"
  },
  "language_info": {
   "codemirror_mode": {
    "name": "ipython",
    "version": 2
   },
   "file_extension": ".py",
   "mimetype": "text/x-python",
   "name": "python",
   "nbconvert_exporter": "python",
   "pygments_lexer": "ipython2",
   "version": "2.7.12"
  }
 },
 "nbformat": 4,
 "nbformat_minor": 2
}
