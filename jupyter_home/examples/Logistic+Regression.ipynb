{
 "cells": [
  {
   "cell_type": "markdown",
   "metadata": {},
   "source": [
    "# Logistic Regression\n",
    "A detailed but practical description of logistic regresion can be found [here](http://ml-cheatsheet.readthedocs.io/en/latest/logistic_regression.html)\n",
    "This notebook will focus on:\n",
    "\n",
    "* Simple logistic regression\n",
    "* Logistic regression with undersample"
   ]
  },
  {
   "cell_type": "code",
   "execution_count": 1,
   "metadata": {},
   "outputs": [],
   "source": [
    "import pandas as pd\n",
    "import numpy as np\n",
    "import seaborn as sns\n",
    "import matplotlib.pyplot as plt\n",
    "from sklearn import linear_model\n",
    "from sklearn.model_selection import train_test_split\n",
    "from sklearn.metrics import confusion_matrix\n",
    "np.random.seed(42)"
   ]
  },
  {
   "cell_type": "code",
   "execution_count": 2,
   "metadata": {},
   "outputs": [],
   "source": [
    "# Prints the metrics that we're going to use to evaluate classifier performance.\n",
    "def my_test_results(model, X, Y):\n",
    "    confmx = confusion_matrix((Y == 1),\n",
    "                              (model.predict(X) > 0.5), labels=[0, 1])\n",
    "    accuracy = (confmx[0, 0] + confmx[1, 1]) / sum(sum(confmx))\n",
    "    precision = float(confmx[1, 1] / (confmx[1, 1]+confmx[0, 1]))\n",
    "    recall = float(confmx[1, 1] / (confmx[1, 1]+confmx[1, 0]))\n",
    "    f1 = (2.0*precision*recall)/(precision+recall)\n",
    "    print(\"Out of sample accuracy = %4.3f\" % accuracy)\n",
    "    print(\"Out of sample precision = %4.3f\" % precision)\n",
    "    print(\"Out of sample recall = %4.3f\" % recall)\n",
    "    print(\"Out of sample F1 = %4.3f\" % f1)\n",
    "\n",
    "    ax = plt.subplot()\n",
    "    sns.heatmap(confmx, annot=True, ax=ax, fmt='g')\n",
    "\n",
    "    # labels, title and ticks\n",
    "    ax.set_xlabel('Predicted labels')\n",
    "    ax.set_ylabel('True labels')\n",
    "    ax.set_title('Confusion Matrix')\n",
    "    ax.xaxis.set_ticklabels(['Not Fraud', 'Fraud'])\n",
    "    ax.yaxis.set_ticklabels(['Not Fraud', 'Fraud'])"
   ]
  },
  {
   "cell_type": "markdown",
   "metadata": {},
   "source": [
    "### Import Data"
   ]
  },
  {
   "cell_type": "markdown",
   "metadata": {},
   "source": [
    "* Load data\n",
    "* Remove useless columns and records (only CASH_OUT and TRANSFER have fraud).\n",
    "* Remap transfer to 0/1."
   ]
  },
  {
   "cell_type": "code",
   "execution_count": 3,
   "metadata": {
    "scrolled": true
   },
   "outputs": [
    {
     "name": "stdout",
     "output_type": "stream",
     "text": [
      "(1305514, 11)\n"
     ]
    },
    {
     "data": {
      "text/html": [
       "<div>\n",
       "<style scoped>\n",
       "    .dataframe tbody tr th:only-of-type {\n",
       "        vertical-align: middle;\n",
       "    }\n",
       "\n",
       "    .dataframe tbody tr th {\n",
       "        vertical-align: top;\n",
       "    }\n",
       "\n",
       "    .dataframe thead th {\n",
       "        text-align: right;\n",
       "    }\n",
       "</style>\n",
       "<table border=\"1\" class=\"dataframe\">\n",
       "  <thead>\n",
       "    <tr style=\"text-align: right;\">\n",
       "      <th></th>\n",
       "      <th>step</th>\n",
       "      <th>type</th>\n",
       "      <th>amount</th>\n",
       "      <th>nameOrig</th>\n",
       "      <th>oldbalanceOrg</th>\n",
       "      <th>newbalanceOrig</th>\n",
       "      <th>nameDest</th>\n",
       "      <th>oldbalanceDest</th>\n",
       "      <th>newbalanceDest</th>\n",
       "      <th>isFraud</th>\n",
       "      <th>isFlaggedFraud</th>\n",
       "    </tr>\n",
       "  </thead>\n",
       "  <tbody>\n",
       "    <tr>\n",
       "      <th>0</th>\n",
       "      <td>2</td>\n",
       "      <td>PAYMENT</td>\n",
       "      <td>18211.33</td>\n",
       "      <td>C1099717276</td>\n",
       "      <td>88.00</td>\n",
       "      <td>0.00</td>\n",
       "      <td>M417557780</td>\n",
       "      <td>0.00</td>\n",
       "      <td>0.00</td>\n",
       "      <td>0</td>\n",
       "      <td>0</td>\n",
       "    </tr>\n",
       "    <tr>\n",
       "      <th>1</th>\n",
       "      <td>2</td>\n",
       "      <td>CASH_IN</td>\n",
       "      <td>93240.07</td>\n",
       "      <td>C1350751778</td>\n",
       "      <td>47.00</td>\n",
       "      <td>93287.07</td>\n",
       "      <td>C665576141</td>\n",
       "      <td>12.00</td>\n",
       "      <td>8650239.39</td>\n",
       "      <td>0</td>\n",
       "      <td>0</td>\n",
       "    </tr>\n",
       "    <tr>\n",
       "      <th>2</th>\n",
       "      <td>2</td>\n",
       "      <td>CASH_IN</td>\n",
       "      <td>78314.86</td>\n",
       "      <td>C332699949</td>\n",
       "      <td>93287.07</td>\n",
       "      <td>171601.93</td>\n",
       "      <td>C1359044626</td>\n",
       "      <td>178957.00</td>\n",
       "      <td>16435074.66</td>\n",
       "      <td>0</td>\n",
       "      <td>0</td>\n",
       "    </tr>\n",
       "    <tr>\n",
       "      <th>3</th>\n",
       "      <td>2</td>\n",
       "      <td>CASH_IN</td>\n",
       "      <td>101282.39</td>\n",
       "      <td>C808417649</td>\n",
       "      <td>171601.93</td>\n",
       "      <td>171601.93</td>\n",
       "      <td>C1599771323</td>\n",
       "      <td>171601.93</td>\n",
       "      <td>3771328.56</td>\n",
       "      <td>0</td>\n",
       "      <td>0</td>\n",
       "    </tr>\n",
       "    <tr>\n",
       "      <th>4</th>\n",
       "      <td>2</td>\n",
       "      <td>CASH_IN</td>\n",
       "      <td>24227.29</td>\n",
       "      <td>C858204589</td>\n",
       "      <td>171601.93</td>\n",
       "      <td>195829.22</td>\n",
       "      <td>C353842779</td>\n",
       "      <td>524999.00</td>\n",
       "      <td>872623.24</td>\n",
       "      <td>0</td>\n",
       "      <td>0</td>\n",
       "    </tr>\n",
       "  </tbody>\n",
       "</table>\n",
       "</div>"
      ],
      "text/plain": [
       "   step     type     amount     nameOrig  oldbalanceOrg  newbalanceOrig  \\\n",
       "0     2  PAYMENT   18211.33  C1099717276          88.00            0.00   \n",
       "1     2  CASH_IN   93240.07  C1350751778          47.00        93287.07   \n",
       "2     2  CASH_IN   78314.86   C332699949       93287.07       171601.93   \n",
       "3     2  CASH_IN  101282.39   C808417649      171601.93       171601.93   \n",
       "4     2  CASH_IN   24227.29   C858204589      171601.93       195829.22   \n",
       "\n",
       "      nameDest  oldbalanceDest  newbalanceDest  isFraud  isFlaggedFraud  \n",
       "0   M417557780            0.00            0.00        0               0  \n",
       "1   C665576141           12.00      8650239.39        0               0  \n",
       "2  C1359044626       178957.00     16435074.66        0               0  \n",
       "3  C1599771323       171601.93      3771328.56        0               0  \n",
       "4   C353842779       524999.00       872623.24        0               0  "
      ]
     },
     "execution_count": 3,
     "metadata": {},
     "output_type": "execute_result"
    }
   ],
   "source": [
    "df = pd.read_csv('../simulated_transactions.csv.xz')\n",
    "print(df.shape)\n",
    "df.head()"
   ]
  },
  {
   "cell_type": "markdown",
   "metadata": {},
   "source": [
    "### Filtering\n",
    "Filter out types other than TRANSFER, and CASH_OUT.<br>\n",
    "Remove variables, 'step', 'nameOrig', 'nameDest', and 'isFlaggedFraud'."
   ]
  },
  {
   "cell_type": "code",
   "execution_count": 4,
   "metadata": {},
   "outputs": [
    {
     "name": "stdout",
     "output_type": "stream",
     "text": [
      "(586965, 7)\n"
     ]
    }
   ],
   "source": [
    "df_filtered = df.drop(['step', 'nameOrig', 'nameDest', 'isFlaggedFraud'],\n",
    "                      axis=1).query('type == \"CASH_OUT\" or type == \"TRANSFER\"')\n",
    "df_filtered.loc[df_filtered.type == 'TRANSFER', 'type'] = 0\n",
    "df_filtered.loc[df_filtered.type == 'CASH_OUT', 'type'] = 1\n",
    "print(df_filtered.shape)"
   ]
  },
  {
   "cell_type": "markdown",
   "metadata": {},
   "source": [
    "## Logistic Regression\n",
    "Begin preparing for logistic regression\n",
    "\n",
    "### Training Set\n",
    "Partition the data with an 80/20 split: Training/Testing. <br>\n",
    "Separate out the dependent variable from the independent variables."
   ]
  },
  {
   "cell_type": "code",
   "execution_count": 5,
   "metadata": {},
   "outputs": [],
   "source": [
    "train, test = train_test_split(df_filtered, test_size=0.2,\n",
    "                               stratify=df_filtered['isFraud'])\n",
    "\n",
    "Y_train = train['isFraud']\n",
    "X_train = train.drop(['isFraud'], axis=1)\n",
    "\n",
    "Y_test = test['isFraud']\n",
    "X_test = test.drop(['isFraud'], axis=1)"
   ]
  },
  {
   "cell_type": "markdown",
   "metadata": {},
   "source": [
    "### Simple Logistic Regression\n",
    "Mindlessly plug data into logistic regression (Note that sklearn uses l2 cost function by default. Different packages may do this and, therefore, produce very different results)."
   ]
  },
  {
   "cell_type": "code",
   "execution_count": 6,
   "metadata": {},
   "outputs": [
    {
     "name": "stdout",
     "output_type": "stream",
     "text": [
      "Out of sample accuracy = 0.999\n",
      "Out of sample precision = 0.964\n",
      "Out of sample recall = 0.965\n",
      "Out of sample F1 = 0.964\n"
     ]
    },
    {
     "data": {
      "image/png": "[encoded data removed]",
      "text/plain": [
       "<Figure size 432x288 with 2 Axes>"
      ]
     },
     "metadata": {},
     "output_type": "display_data"
    }
   ],
   "source": [
    "lm = linear_model.LogisticRegression()\n",
    "lm = lm.fit(X_train, Y_train)\n",
    "my_test_results(lm, X_test, Y_test)"
   ]
  },
  {
   "cell_type": "markdown",
   "metadata": {},
   "source": [
    "* Accuracy - Proportion of predictions that are correct. $\\frac{True Positive + True Negative}{True Positive + True Negative + False Positive + False Negative}$\n",
    "* Precision - True positive over total positive actual cases. $\\frac{True Positive}{True Positive + False Positive}$\n",
    "* Recall - True positive over total positive predicted cases. $\\frac{True Positive}{True Positive + False Negative}$\n",
    "* F1 - A balance between Precision and Recall (harmonic mean of precision and recall) $\\frac{2 * Precision * Recall}{Precision + Recall}$"
   ]
  },
  {
   "cell_type": "markdown",
   "metadata": {},
   "source": [
    "### Results\n",
    "In this case a simple logistic regression worked very well. The problem lacked great complexity and there are few independent variables. For problems like this, a logistic regression can work well."
   ]
  },
  {
   "cell_type": "markdown",
   "metadata": {},
   "source": [
    "### Logistic regression undersampling\n",
    "When working with rare events like fraud, it's often best to undersample the negative cases.<br>\n",
    "* Model training uses far fewer records so it can build much more quickly.\n",
    "* Depending on the algorithm the model parameters, it may predicting 100% negative cases. This is becaues a rare event a model could be over 99% accurate by predicting nothing is fraud.<br>"
   ]
  },
  {
   "cell_type": "code",
   "execution_count": 7,
   "metadata": {},
   "outputs": [],
   "source": [
    "training_count = len(Y_train)\n",
    "fraud_count = len(Y_train[Y_train == 1])\n",
    "non_fraud_indices = X_train[Y_train == 0].index\n",
    "random_indices = np.random.choice(non_fraud_indices,\n",
    "                                  10 * fraud_count, replace=False)\n",
    "fraud_indices = X_train[Y_train == 1].index\n",
    "under_sample_indices = np.concatenate([fraud_indices, random_indices])\n",
    "under_sample = X_train.loc[under_sample_indices]\n",
    "X_train_us = under_sample\n",
    "Y_train_us = Y_train[under_sample_indices]"
   ]
  },
  {
   "cell_type": "code",
   "execution_count": 8,
   "metadata": {},
   "outputs": [
    {
     "name": "stdout",
     "output_type": "stream",
     "text": [
      "Out of sample accuracy = 0.999\n",
      "Out of sample precision = 0.970\n",
      "Out of sample recall = 0.938\n",
      "Out of sample F1 = 0.954\n"
     ]
    },
    {
     "data": {
      "image/png": "[encoded data removed]",
      "text/plain": [
       "<Figure size 432x288 with 2 Axes>"
      ]
     },
     "metadata": {},
     "output_type": "display_data"
    }
   ],
   "source": [
    "pos_weight = 5 * fraud_count / training_count\n",
    "lm = linear_model.LogisticRegression(class_weight={1: pos_weight})\n",
    "lm = lm.fit(X_train_us, Y_train_us)\n",
    "my_test_results(lm, X_test, Y_test)"
   ]
  },
  {
   "cell_type": "markdown",
   "metadata": {},
   "source": [
    "The model has similar results to the above, but trains more quickly. With very large datasets this can have a huge effect on training times<br>\n",
    "In general, logistic regression does not perform as well as many other classifiers. e.g., Neural Nets, Random Forests, etc. Logistic regressions are fast and easy to make, interpret, and deploy.<br>\n",
    "In this case, the model is a short equation with the following coefficients.\n",
    "$P(fraud) = \\frac{\\exp(\\beta_{0} + \\beta_{1} \\text{type} + \\beta_{2} \\text{amount} \n",
    "+ \\beta_{3} \\text{oldbalanceOrg} + \\beta_{4} \\text{newbalanceOrig} \n",
    "+ \\beta_{5} \\text{oldbalanceDest} + \\beta_{6} \\text{newbalanceDest}}\n",
    "  {1 + \\exp(\\beta_{0} + \\beta_{1} \\text{type} + \\beta_{2} \\text{amount} \n",
    "+ \\beta_{3} \\text{oldbalanceOrg} + \\beta_{4} \\text{newbalanceOrig} \n",
    "+ \\beta_{5} \\text{oldbalanceDest} + \\beta_{6} \\text{newbalanceDest}}$"
   ]
  }
 ],
 "metadata": {
  "kernelspec": {
   "display_name": "Python 3",
   "language": "python",
   "name": "python3"
  },
  "language_info": {
   "codemirror_mode": {
    "name": "ipython",
    "version": 3
   },
   "file_extension": ".py",
   "mimetype": "text/x-python",
   "name": "python",
   "nbconvert_exporter": "python",
   "pygments_lexer": "ipython3",
   "version": "3.6.6"
  }
 },
 "nbformat": 4,
 "nbformat_minor": 2
}
