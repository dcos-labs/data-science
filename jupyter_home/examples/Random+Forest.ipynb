{
 "cells": [
  {
   "cell_type": "markdown",
   "metadata": {},
   "source": [
    "# Random Forest\n",
    "A thorough explanation of random forests can be found [here](https://www.stat.berkeley.edu/~breiman/RandomForests/cc_home.htm)"
   ]
  },
  {
   "cell_type": "code",
   "execution_count": 1,
   "metadata": {},
   "outputs": [],
   "source": [
    "import pandas as pd\n",
    "import numpy as np\n",
    "import seaborn as sns\n",
    "import matplotlib.pyplot as plt\n",
    "from sklearn.ensemble import RandomForestClassifier\n",
    "from sklearn.model_selection import train_test_split\n",
    "from sklearn.metrics import confusion_matrix\n",
    "np.random.seed(42)"
   ]
  },
  {
   "cell_type": "code",
   "execution_count": 2,
   "metadata": {},
   "outputs": [],
   "source": [
    "# Prints the metrics that we're going to use to evaluate classifier performance.\n",
    "def my_test_results(model, X, Y):\n",
    "    cm = confusion_matrix((Y == 1), (model.predict(X) > 0.5), labels=[0, 1])\n",
    "    accuracy = (cm[0, 0] + cm[1, 1])/sum(sum(cm))\n",
    "    precision = float(cm[1, 1]/(cm[1, 1]+cm[0, 1]))\n",
    "    recall = float(cm[1, 1]/(cm[1, 1]+cm[1, 0]))\n",
    "    f1 = (2.0 * precision*recall)/(precision+recall)\n",
    "    print(\"Out of sample accuracy = %4.3f\" % accuracy)\n",
    "    print(\"Out of sample precision = %4.3f\" % precision)\n",
    "    print(\"Out of sample recall = %4.3f\" % recall)\n",
    "    print(\"Out of sample F1 = %4.3f\" % f1)\n",
    "\n",
    "    ax = plt.subplot()\n",
    "    sns.heatmap(cm, annot=True, ax=ax, fmt='g')\n",
    "\n",
    "    # labels, title and ticks\n",
    "    ax.set_xlabel('Predicted labels')\n",
    "    ax.set_ylabel('True labels')\n",
    "    ax.set_title('Confusion Matrix')\n",
    "    ax.xaxis.set_ticklabels(['Not Fraud', 'Fraud'])\n",
    "    ax.yaxis.set_ticklabels(['Not Fraud', 'Fraud'])"
   ]
  },
  {
   "cell_type": "markdown",
   "metadata": {},
   "source": [
    "### Import Data"
   ]
  },
  {
   "cell_type": "markdown",
   "metadata": {},
   "source": [
    "* Load data\n",
    "* Remove useless columns and records (only CASH_OUT and TRANSFER have fraud).\n",
    "* Remap transfer to 0/1."
   ]
  },
  {
   "cell_type": "code",
   "execution_count": 3,
   "metadata": {},
   "outputs": [
    {
     "name": "stdout",
     "output_type": "stream",
     "text": [
      "(1305514, 11)\n"
     ]
    },
    {
     "data": {
      "text/html": [
       "<div>\n",
       "<style scoped>\n",
       "    .dataframe tbody tr th:only-of-type {\n",
       "        vertical-align: middle;\n",
       "    }\n",
       "\n",
       "    .dataframe tbody tr th {\n",
       "        vertical-align: top;\n",
       "    }\n",
       "\n",
       "    .dataframe thead th {\n",
       "        text-align: right;\n",
       "    }\n",
       "</style>\n",
       "<table border=\"1\" class=\"dataframe\">\n",
       "  <thead>\n",
       "    <tr style=\"text-align: right;\">\n",
       "      <th></th>\n",
       "      <th>step</th>\n",
       "      <th>type</th>\n",
       "      <th>amount</th>\n",
       "      <th>nameOrig</th>\n",
       "      <th>oldbalanceOrg</th>\n",
       "      <th>newbalanceOrig</th>\n",
       "      <th>nameDest</th>\n",
       "      <th>oldbalanceDest</th>\n",
       "      <th>newbalanceDest</th>\n",
       "      <th>isFraud</th>\n",
       "      <th>isFlaggedFraud</th>\n",
       "    </tr>\n",
       "  </thead>\n",
       "  <tbody>\n",
       "    <tr>\n",
       "      <th>0</th>\n",
       "      <td>2</td>\n",
       "      <td>PAYMENT</td>\n",
       "      <td>18211.33</td>\n",
       "      <td>C1099717276</td>\n",
       "      <td>88.00</td>\n",
       "      <td>0.00</td>\n",
       "      <td>M417557780</td>\n",
       "      <td>0.00</td>\n",
       "      <td>0.00</td>\n",
       "      <td>0</td>\n",
       "      <td>0</td>\n",
       "    </tr>\n",
       "    <tr>\n",
       "      <th>1</th>\n",
       "      <td>2</td>\n",
       "      <td>CASH_IN</td>\n",
       "      <td>93240.07</td>\n",
       "      <td>C1350751778</td>\n",
       "      <td>47.00</td>\n",
       "      <td>93287.07</td>\n",
       "      <td>C665576141</td>\n",
       "      <td>12.00</td>\n",
       "      <td>8650239.39</td>\n",
       "      <td>0</td>\n",
       "      <td>0</td>\n",
       "    </tr>\n",
       "    <tr>\n",
       "      <th>2</th>\n",
       "      <td>2</td>\n",
       "      <td>CASH_IN</td>\n",
       "      <td>78314.86</td>\n",
       "      <td>C332699949</td>\n",
       "      <td>93287.07</td>\n",
       "      <td>171601.93</td>\n",
       "      <td>C1359044626</td>\n",
       "      <td>178957.00</td>\n",
       "      <td>16435074.66</td>\n",
       "      <td>0</td>\n",
       "      <td>0</td>\n",
       "    </tr>\n",
       "    <tr>\n",
       "      <th>3</th>\n",
       "      <td>2</td>\n",
       "      <td>CASH_IN</td>\n",
       "      <td>101282.39</td>\n",
       "      <td>C808417649</td>\n",
       "      <td>171601.93</td>\n",
       "      <td>171601.93</td>\n",
       "      <td>C1599771323</td>\n",
       "      <td>171601.93</td>\n",
       "      <td>3771328.56</td>\n",
       "      <td>0</td>\n",
       "      <td>0</td>\n",
       "    </tr>\n",
       "    <tr>\n",
       "      <th>4</th>\n",
       "      <td>2</td>\n",
       "      <td>CASH_IN</td>\n",
       "      <td>24227.29</td>\n",
       "      <td>C858204589</td>\n",
       "      <td>171601.93</td>\n",
       "      <td>195829.22</td>\n",
       "      <td>C353842779</td>\n",
       "      <td>524999.00</td>\n",
       "      <td>872623.24</td>\n",
       "      <td>0</td>\n",
       "      <td>0</td>\n",
       "    </tr>\n",
       "  </tbody>\n",
       "</table>\n",
       "</div>"
      ],
      "text/plain": [
       "   step     type     amount     nameOrig  oldbalanceOrg  newbalanceOrig  \\\n",
       "0     2  PAYMENT   18211.33  C1099717276          88.00            0.00   \n",
       "1     2  CASH_IN   93240.07  C1350751778          47.00        93287.07   \n",
       "2     2  CASH_IN   78314.86   C332699949       93287.07       171601.93   \n",
       "3     2  CASH_IN  101282.39   C808417649      171601.93       171601.93   \n",
       "4     2  CASH_IN   24227.29   C858204589      171601.93       195829.22   \n",
       "\n",
       "      nameDest  oldbalanceDest  newbalanceDest  isFraud  isFlaggedFraud  \n",
       "0   M417557780            0.00            0.00        0               0  \n",
       "1   C665576141           12.00      8650239.39        0               0  \n",
       "2  C1359044626       178957.00     16435074.66        0               0  \n",
       "3  C1599771323       171601.93      3771328.56        0               0  \n",
       "4   C353842779       524999.00       872623.24        0               0  "
      ]
     },
     "execution_count": 3,
     "metadata": {},
     "output_type": "execute_result"
    }
   ],
   "source": [
    "df = pd.read_csv('../simulated_transactions.csv.xz')\n",
    "print(df.shape)\n",
    "df.head()"
   ]
  },
  {
   "cell_type": "markdown",
   "metadata": {},
   "source": [
    "#### Description\n",
    "From the above we can see we read in a total of over 6 million records with 11 columns.\n",
    "<br>The description of the 11 columnes follows:"
   ]
  },
  {
   "cell_type": "markdown",
   "metadata": {},
   "source": [
    "|Variable|Description|Keep|\n",
    "| :------| :---------| :--|\n",
    "|step|Maps a unit of time in the real world. In this case 1 step is 1 hour of time.|Drop|\n",
    "|type|CASH-IN, CASH-OUT, DEBIT, PAYMENT and TRANSFER|Keep (TRANSFER and CASH-OUT)|\n",
    "|amount|The amount of the transaction.|Keep|\n",
    "|nameOrig|The customer ID for the initiator of the transaction.|Drop|\n",
    "|oldbalanceOrg|The initial balance before the transaction.|Keep|\n",
    "|newbalanceOrg|The customer's balance after the transaction.|Keep|\n",
    "|nameDest|The customer ID for the recipient of the transaction.|Drop|\n",
    "|oldbalanceDest|The initial recipient balance before the transaction.|Keep|\n",
    "|newbalanceDest|The recipient's balance after the transaction.|Keep|\n",
    "|isFraud|This identifies a fraudulent transaction (1) and non fraudulent transaction(0).|Keep|\n",
    "|isFlaggedFraud|This is a rule based system that flags illegal attempts to transfer more than 200.000 in a single transaction.|Drop|"
   ]
  },
  {
   "cell_type": "markdown",
   "metadata": {},
   "source": [
    "### Filtering\n",
    "Filter out types other than TRANSFER, and CASH_OUT.<br>\n",
    "Remove variables, 'step', 'nameOrig', 'nameDest', and 'isFlaggedFraud'."
   ]
  },
  {
   "cell_type": "code",
   "execution_count": 4,
   "metadata": {},
   "outputs": [
    {
     "name": "stdout",
     "output_type": "stream",
     "text": [
      "(586965, 7)\n"
     ]
    }
   ],
   "source": [
    "X = df.drop(['step', 'nameOrig', 'nameDest', 'isFlaggedFraud'],\n",
    "            axis=1).query('type == \"CASH_OUT\" or type == \"TRANSFER\"')\n",
    "X.loc[X.type == 'TRANSFER', 'type'] = 0\n",
    "X.loc[X.type == 'CASH_OUT', 'type'] = 1\n",
    "print(X.shape)"
   ]
  },
  {
   "cell_type": "markdown",
   "metadata": {},
   "source": [
    "### Data Exploration\n",
    "Normally data exploration would be done here. Looking at the data ranges, distributions and relationships. See the Data Exploration section for examples of this. For the purpose the this notebook we will skip straight to the logistic regression."
   ]
  },
  {
   "cell_type": "markdown",
   "metadata": {},
   "source": [
    "## Random Forest Classifier\n",
    "Begin preparing for the model"
   ]
  },
  {
   "cell_type": "markdown",
   "metadata": {},
   "source": [
    "### Training Set\n",
    "Partition the data with an 80/20 split: Training/Testing. <br>\n",
    "Separate out the dependent variable from the independent varaibles."
   ]
  },
  {
   "cell_type": "code",
   "execution_count": 5,
   "metadata": {},
   "outputs": [],
   "source": [
    "train, test = train_test_split(X, test_size=0.2, stratify=X['isFraud'])\n",
    "\n",
    "Y_train = train['isFraud']\n",
    "X_train = train.drop(['isFraud'], axis=1)\n",
    "\n",
    "Y_test = test['isFraud']\n",
    "X_test = test.drop(['isFraud'], axis=1)"
   ]
  },
  {
   "cell_type": "code",
   "execution_count": 6,
   "metadata": {},
   "outputs": [],
   "source": [
    "rf = RandomForestClassifier(n_estimators=200, criterion=\"entropy\",\n",
    "                            n_jobs=8, max_features=5, oob_score=True)\n",
    "rf = rf.fit(X_train, Y_train)"
   ]
  },
  {
   "cell_type": "code",
   "execution_count": 7,
   "metadata": {},
   "outputs": [
    {
     "name": "stdout",
     "output_type": "stream",
     "text": [
      "Out of sample accuracy = 0.999\n",
      "Out of sample precision = 0.996\n",
      "Out of sample recall = 0.945\n",
      "Out of sample F1 = 0.970\n"
     ]
    },
    {
     "data": {
      "image/png": "[encoded data removed]",
      "text/plain": [
       "<Figure size 432x288 with 2 Axes>"
      ]
     },
     "metadata": {},
     "output_type": "display_data"
    }
   ],
   "source": [
    "mymodel = RandomForestClassifier()\n",
    "\n",
    "dt = mymodel.fit(X_train, Y_train)\n",
    "my_test_results(dt, X_test, Y_test)"
   ]
  },
  {
   "cell_type": "markdown",
   "metadata": {},
   "source": [
    "* Accuracy - Proportion of predictions that are correct. $\\frac{True Positive + True Negative}{True Positive + True Negative + False Positive + False Negative}$\n",
    "* Precision - True positive over total positive actual cases. $\\frac{True Positive}{True Positive + False Positive}$\n",
    "* Recall - True positive over total positive predicted cases. $\\frac{True Positive}{True Positive + False Negative}$\n",
    "* F1 - A balance between Precision and Recall (harmonic mean of precision and recall) $\\frac{2 * Precision * Recall}{Precision + Recall}$"
   ]
  },
  {
   "cell_type": "markdown",
   "metadata": {},
   "source": [
    "That's not bad. <br>\n",
    "It's not as easy for to see the interactions are a single tree, but as black box as some other approaches.<br>\n",
    "The feature importance is as follows:"
   ]
  },
  {
   "cell_type": "code",
   "execution_count": 8,
   "metadata": {},
   "outputs": [
    {
     "data": {
      "text/html": [
       "<div>\n",
       "<style scoped>\n",
       "    .dataframe tbody tr th:only-of-type {\n",
       "        vertical-align: middle;\n",
       "    }\n",
       "\n",
       "    .dataframe tbody tr th {\n",
       "        vertical-align: top;\n",
       "    }\n",
       "\n",
       "    .dataframe thead th {\n",
       "        text-align: right;\n",
       "    }\n",
       "</style>\n",
       "<table border=\"1\" class=\"dataframe\">\n",
       "  <thead>\n",
       "    <tr style=\"text-align: right;\">\n",
       "      <th></th>\n",
       "      <th>value</th>\n",
       "      <th>feature_name</th>\n",
       "    </tr>\n",
       "  </thead>\n",
       "  <tbody>\n",
       "    <tr>\n",
       "      <th>0</th>\n",
       "      <td>0.068556</td>\n",
       "      <td>type</td>\n",
       "    </tr>\n",
       "    <tr>\n",
       "      <th>1</th>\n",
       "      <td>0.065130</td>\n",
       "      <td>amount</td>\n",
       "    </tr>\n",
       "    <tr>\n",
       "      <th>2</th>\n",
       "      <td>0.627891</td>\n",
       "      <td>oldbalanceOrg</td>\n",
       "    </tr>\n",
       "    <tr>\n",
       "      <th>3</th>\n",
       "      <td>0.108152</td>\n",
       "      <td>newbalanceOrig</td>\n",
       "    </tr>\n",
       "    <tr>\n",
       "      <th>4</th>\n",
       "      <td>0.017148</td>\n",
       "      <td>oldbalanceDest</td>\n",
       "    </tr>\n",
       "    <tr>\n",
       "      <th>5</th>\n",
       "      <td>0.113122</td>\n",
       "      <td>newbalanceDest</td>\n",
       "    </tr>\n",
       "  </tbody>\n",
       "</table>\n",
       "</div>"
      ],
      "text/plain": [
       "      value    feature_name\n",
       "0  0.068556            type\n",
       "1  0.065130          amount\n",
       "2  0.627891   oldbalanceOrg\n",
       "3  0.108152  newbalanceOrig\n",
       "4  0.017148  oldbalanceDest\n",
       "5  0.113122  newbalanceDest"
      ]
     },
     "execution_count": 8,
     "metadata": {},
     "output_type": "execute_result"
    }
   ],
   "source": [
    "fi = pd.DataFrame({\"value\": rf.feature_importances_})\n",
    "fi['feature_name'] = pd.DataFrame(X_train.columns)\n",
    "fi"
   ]
  },
  {
   "cell_type": "markdown",
   "metadata": {},
   "source": [
    "### Summary\n",
    "A random forrest is a good brute force choice for a model. It's resistent to overfitting and does not have require a lot of tuning to return decent results. It requires a lot of computation, but parallelizes easy. A good choice if you have more CPU time than people time and are fine with \"good\" but not \"great\"."
   ]
  }
 ],
 "metadata": {
  "kernelspec": {
   "display_name": "Python 3",
   "language": "python",
   "name": "python3"
  },
  "language_info": {
   "codemirror_mode": {
    "name": "ipython",
    "version": 3
   },
   "file_extension": ".py",
   "mimetype": "text/x-python",
   "name": "python",
   "nbconvert_exporter": "python",
   "pygments_lexer": "ipython3",
   "version": "3.6.5"
  }
 },
 "nbformat": 4,
 "nbformat_minor": 2
}
