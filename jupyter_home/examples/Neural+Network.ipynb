{
 "cells": [
  {
   "cell_type": "markdown",
   "metadata": {},
   "source": [
    "##  Neural Network\n",
    "A description of neural networks can be found [here](https://ml-cheatsheet.readthedocs.io/en/latest/nn_concepts.html)"
   ]
  },
  {
   "cell_type": "code",
   "execution_count": 1,
   "metadata": {},
   "outputs": [
    {
     "name": "stderr",
     "output_type": "stream",
     "text": [
      "/Users/tobi/anaconda3/envs/datascience/lib/python3.6/importlib/_bootstrap.py:219: RuntimeWarning: numpy.dtype size changed, may indicate binary incompatibility. Expected 96, got 88\n",
      "  return f(*args, **kwds)\n",
      "/Users/tobi/anaconda3/envs/datascience/lib/python3.6/importlib/_bootstrap.py:219: RuntimeWarning: numpy.dtype size changed, may indicate binary incompatibility. Expected 96, got 88\n",
      "  return f(*args, **kwds)\n",
      "/Users/tobi/anaconda3/envs/datascience/lib/python3.6/importlib/_bootstrap.py:219: RuntimeWarning: numpy.dtype size changed, may indicate binary incompatibility. Expected 96, got 88\n",
      "  return f(*args, **kwds)\n",
      "Using TensorFlow backend.\n"
     ]
    }
   ],
   "source": [
    "import numpy as np\n",
    "import random as rn\n",
    "import tensorflow as tf\n",
    "import os\n",
    "seed = 42\n",
    "np.random.seed(seed)\n",
    "rn.seed(seed)\n",
    "os.environ['PYTHONHASHSEED'] = '0'\n",
    "session_conf = tf.ConfigProto(intra_op_parallelism_threads=1, inter_op_parallelism_threads=1)\n",
    "from keras import backend as K\n",
    "tf.set_random_seed(seed)\n",
    "sess = tf.Session(graph=tf.get_default_graph(), config=session_conf)\n",
    "K.set_session(sess)\n",
    "\n",
    "import pandas as pd\n",
    "import matplotlib.pyplot as plt\n",
    "import matplotlib.lines as mlines\n",
    "import seaborn as sns\n",
    "from sklearn.model_selection import train_test_split, learning_curve\n",
    "from sklearn.metrics import average_precision_score, confusion_matrix\n",
    "from keras.models import Model, load_model\n",
    "from keras.layers import Input, Dense, RNN\n",
    "from keras.callbacks import ModelCheckpoint, TensorBoard, EarlyStopping\n",
    "from keras import regularizers"
   ]
  },
  {
   "cell_type": "code",
   "execution_count": 2,
   "metadata": {},
   "outputs": [],
   "source": [
    "# Prints the metrics that we're going to use to evaluate classifier performance.\n",
    "def my_test_results(model, X, Y):\n",
    "    pred_raw = pd.DataFrame(autoencoder.predict(X))\n",
    "    pred_raw = pred_raw[0] < pred_raw[1]\n",
    "\n",
    "    cm = confusion_matrix((Y == 1), pred_raw, labels=[0,1])\n",
    "    accuracy = (cm[0,0] + cm[1,1])/sum(sum(cm))\n",
    "    precision = float(cm[1,1]/(cm[1,1]+cm[0,1]))\n",
    "    recall = float(cm[1,1]/(cm[1,1]+cm[1,0]))\n",
    "    f1 = (2.0*precision*recall)/(precision+recall)\n",
    "    print(\"Out of sample accuracy = %4.3f\" % accuracy)\n",
    "    print(\"Out of sample precision = %4.3f\" % precision)\n",
    "    print(\"Out of sample recall = %4.3f\" % recall)\n",
    "    print(\"Out of sample F1 = %4.3f\" % f1)\n",
    "\n",
    "    ax= plt.subplot()\n",
    "    sns.heatmap(cm, annot=True, ax = ax, fmt='g'); #annot=True to annotate cells\n",
    "\n",
    "    # labels, title and ticks\n",
    "    ax.set_xlabel('Predicted labels')\n",
    "    ax.set_ylabel('True labels')\n",
    "    ax.set_title('Confusion Matrix')\n",
    "    ax.xaxis.set_ticklabels(['Not Fraud', 'Fraud']); ax.yaxis.set_ticklabels(['Not Fraud', 'Fraud'])"
   ]
  },
  {
   "cell_type": "markdown",
   "metadata": {},
   "source": [
    "### Import Data"
   ]
  },
  {
   "cell_type": "markdown",
   "metadata": {},
   "source": [
    "* Load data\n",
    "* Remove useless columns and records (only CASH_OUT and TRANSFER have fraud).\n",
    "* Remap transfer to 0/1."
   ]
  },
  {
   "cell_type": "code",
   "execution_count": 3,
   "metadata": {},
   "outputs": [
    {
     "name": "stdout",
     "output_type": "stream",
     "text": [
      "(1305514, 11)\n"
     ]
    },
    {
     "data": {
      "text/html": [
       "<div>\n",
       "<style scoped>\n",
       "    .dataframe tbody tr th:only-of-type {\n",
       "        vertical-align: middle;\n",
       "    }\n",
       "\n",
       "    .dataframe tbody tr th {\n",
       "        vertical-align: top;\n",
       "    }\n",
       "\n",
       "    .dataframe thead th {\n",
       "        text-align: right;\n",
       "    }\n",
       "</style>\n",
       "<table border=\"1\" class=\"dataframe\">\n",
       "  <thead>\n",
       "    <tr style=\"text-align: right;\">\n",
       "      <th></th>\n",
       "      <th>step</th>\n",
       "      <th>type</th>\n",
       "      <th>amount</th>\n",
       "      <th>nameOrig</th>\n",
       "      <th>oldbalanceOrg</th>\n",
       "      <th>newbalanceOrig</th>\n",
       "      <th>nameDest</th>\n",
       "      <th>oldbalanceDest</th>\n",
       "      <th>newbalanceDest</th>\n",
       "      <th>isFraud</th>\n",
       "      <th>isFlaggedFraud</th>\n",
       "    </tr>\n",
       "  </thead>\n",
       "  <tbody>\n",
       "    <tr>\n",
       "      <th>0</th>\n",
       "      <td>2</td>\n",
       "      <td>PAYMENT</td>\n",
       "      <td>18211.33</td>\n",
       "      <td>C1099717276</td>\n",
       "      <td>88.00</td>\n",
       "      <td>0.00</td>\n",
       "      <td>M417557780</td>\n",
       "      <td>0.00</td>\n",
       "      <td>0.00</td>\n",
       "      <td>0</td>\n",
       "      <td>0</td>\n",
       "    </tr>\n",
       "    <tr>\n",
       "      <th>1</th>\n",
       "      <td>2</td>\n",
       "      <td>CASH_IN</td>\n",
       "      <td>93240.07</td>\n",
       "      <td>C1350751778</td>\n",
       "      <td>47.00</td>\n",
       "      <td>93287.07</td>\n",
       "      <td>C665576141</td>\n",
       "      <td>12.00</td>\n",
       "      <td>8650239.39</td>\n",
       "      <td>0</td>\n",
       "      <td>0</td>\n",
       "    </tr>\n",
       "    <tr>\n",
       "      <th>2</th>\n",
       "      <td>2</td>\n",
       "      <td>CASH_IN</td>\n",
       "      <td>78314.86</td>\n",
       "      <td>C332699949</td>\n",
       "      <td>93287.07</td>\n",
       "      <td>171601.93</td>\n",
       "      <td>C1359044626</td>\n",
       "      <td>178957.00</td>\n",
       "      <td>16435074.66</td>\n",
       "      <td>0</td>\n",
       "      <td>0</td>\n",
       "    </tr>\n",
       "    <tr>\n",
       "      <th>3</th>\n",
       "      <td>2</td>\n",
       "      <td>CASH_IN</td>\n",
       "      <td>101282.39</td>\n",
       "      <td>C808417649</td>\n",
       "      <td>171601.93</td>\n",
       "      <td>171601.93</td>\n",
       "      <td>C1599771323</td>\n",
       "      <td>171601.93</td>\n",
       "      <td>3771328.56</td>\n",
       "      <td>0</td>\n",
       "      <td>0</td>\n",
       "    </tr>\n",
       "    <tr>\n",
       "      <th>4</th>\n",
       "      <td>2</td>\n",
       "      <td>CASH_IN</td>\n",
       "      <td>24227.29</td>\n",
       "      <td>C858204589</td>\n",
       "      <td>171601.93</td>\n",
       "      <td>195829.22</td>\n",
       "      <td>C353842779</td>\n",
       "      <td>524999.00</td>\n",
       "      <td>872623.24</td>\n",
       "      <td>0</td>\n",
       "      <td>0</td>\n",
       "    </tr>\n",
       "  </tbody>\n",
       "</table>\n",
       "</div>"
      ],
      "text/plain": [
       "   step     type     amount     nameOrig  oldbalanceOrg  newbalanceOrig  \\\n",
       "0     2  PAYMENT   18211.33  C1099717276          88.00            0.00   \n",
       "1     2  CASH_IN   93240.07  C1350751778          47.00        93287.07   \n",
       "2     2  CASH_IN   78314.86   C332699949       93287.07       171601.93   \n",
       "3     2  CASH_IN  101282.39   C808417649      171601.93       171601.93   \n",
       "4     2  CASH_IN   24227.29   C858204589      171601.93       195829.22   \n",
       "\n",
       "      nameDest  oldbalanceDest  newbalanceDest  isFraud  isFlaggedFraud  \n",
       "0   M417557780            0.00            0.00        0               0  \n",
       "1   C665576141           12.00      8650239.39        0               0  \n",
       "2  C1359044626       178957.00     16435074.66        0               0  \n",
       "3  C1599771323       171601.93      3771328.56        0               0  \n",
       "4   C353842779       524999.00       872623.24        0               0  "
      ]
     },
     "execution_count": 3,
     "metadata": {},
     "output_type": "execute_result"
    }
   ],
   "source": [
    "df = pd.read_csv('../simulated_transactions.csv.xz')\n",
    "print(df.shape)\n",
    "df.head()"
   ]
  },
  {
   "cell_type": "markdown",
   "metadata": {},
   "source": [
    "### Filtering\n",
    "Filter out types other than TRANSFER, and CASH_OUT.<br>\n",
    "Remove variables, 'step', 'nameOrig', 'nameDest', and 'isFlaggedFraud'."
   ]
  },
  {
   "cell_type": "code",
   "execution_count": 4,
   "metadata": {},
   "outputs": [
    {
     "name": "stdout",
     "output_type": "stream",
     "text": [
      "(586965, 7)\n"
     ]
    }
   ],
   "source": [
    "X = df.drop(['step', 'nameOrig', 'nameDest', 'isFlaggedFraud'], axis = 1).query('type==\"CASH_OUT\" or type==\"TRANSFER\"')\n",
    "X.loc[X.type == 'TRANSFER', 'type'] = 0\n",
    "X.loc[X.type == 'CASH_OUT', 'type'] = 1\n",
    "print(X.shape)"
   ]
  },
  {
   "cell_type": "markdown",
   "metadata": {},
   "source": [
    "### Data Exploration\n",
    "Normally data exploration would be done here. Looking at the data ranges, distributions and relationships. See the Data Exploration section for examples of this. For the purpose the this notebook we will skip straight to the logistic regression."
   ]
  },
  {
   "cell_type": "markdown",
   "metadata": {},
   "source": [
    "## Neural Network\n",
    "Begin preparing for very simple neural network"
   ]
  },
  {
   "cell_type": "markdown",
   "metadata": {},
   "source": [
    "### Training Set\n",
    "Partition the data with an 80/20 split: Training/Testing. <br>\n",
    "Separate out the dependent variable from the independent varaibles."
   ]
  },
  {
   "cell_type": "code",
   "execution_count": 5,
   "metadata": {},
   "outputs": [],
   "source": [
    "train, test = train_test_split(X, test_size=0.4, stratify=X['isFraud'])\n",
    "\n",
    "Y_train = train['isFraud']\n",
    "X_train = train.drop(['isFraud'], axis=1)\n",
    "\n",
    "Y_test = test['isFraud']\n",
    "X_test = test.drop(['isFraud'], axis=1)"
   ]
  },
  {
   "cell_type": "markdown",
   "metadata": {},
   "source": [
    "### Simple NN (12,6,6,2)"
   ]
  },
  {
   "cell_type": "code",
   "execution_count": 6,
   "metadata": {},
   "outputs": [
    {
     "name": "stdout",
     "output_type": "stream",
     "text": [
      "Train on 281743 samples, validate on 70436 samples\n",
      "Epoch 1/200\n",
      "281743/281743 [==============================] - 1s 5us/step - loss: 9.3623 - binary_accuracy: 0.0982 - val_loss: 9.1603 - val_binary_accuracy: 0.4182\n",
      "Epoch 2/200\n",
      "281743/281743 [==============================] - 1s 2us/step - loss: 9.0743 - binary_accuracy: 0.6611 - val_loss: 8.9977 - val_binary_accuracy: 0.9813\n",
      "Epoch 3/200\n",
      "281743/281743 [==============================] - 1s 3us/step - loss: 8.9436 - binary_accuracy: 0.9797 - val_loss: 8.8857 - val_binary_accuracy: 0.9822\n",
      "Epoch 4/200\n",
      "281743/281743 [==============================] - 1s 2us/step - loss: 8.8412 - binary_accuracy: 0.9823 - val_loss: 8.7941 - val_binary_accuracy: 0.9840\n",
      "Epoch 5/200\n",
      "281743/281743 [==============================] - 1s 2us/step - loss: 8.7551 - binary_accuracy: 0.9851 - val_loss: 8.7095 - val_binary_accuracy: 0.9861\n",
      "Epoch 6/200\n",
      "281743/281743 [==============================] - 1s 2us/step - loss: 8.6690 - binary_accuracy: 0.9855 - val_loss: 8.6203 - val_binary_accuracy: 0.9861\n",
      "Epoch 7/200\n",
      "281743/281743 [==============================] - 0s 2us/step - loss: 8.5831 - binary_accuracy: 0.9866 - val_loss: 8.5579 - val_binary_accuracy: 0.9894\n",
      "Epoch 8/200\n",
      "281743/281743 [==============================] - 1s 2us/step - loss: 8.5439 - binary_accuracy: 0.9888 - val_loss: 8.5306 - val_binary_accuracy: 0.9894\n",
      "Epoch 9/200\n",
      "281743/281743 [==============================] - 1s 2us/step - loss: 8.5253 - binary_accuracy: 0.9888 - val_loss: 8.5209 - val_binary_accuracy: 0.9894\n",
      "Epoch 10/200\n",
      "281743/281743 [==============================] - 0s 2us/step - loss: 8.5157 - binary_accuracy: 0.9888 - val_loss: 8.5164 - val_binary_accuracy: 0.9894\n",
      "Epoch 11/200\n",
      "281743/281743 [==============================] - 0s 2us/step - loss: 8.5104 - binary_accuracy: 0.9888 - val_loss: 8.5060 - val_binary_accuracy: 0.9894\n",
      "Epoch 12/200\n",
      "281743/281743 [==============================] - 0s 2us/step - loss: 8.5051 - binary_accuracy: 0.9888 - val_loss: 8.5020 - val_binary_accuracy: 0.9894\n",
      "Epoch 13/200\n",
      "281743/281743 [==============================] - 0s 2us/step - loss: 8.5017 - binary_accuracy: 0.9889 - val_loss: 8.5051 - val_binary_accuracy: 0.9894\n",
      "Epoch 14/200\n",
      "281743/281743 [==============================] - 0s 2us/step - loss: 8.5002 - binary_accuracy: 0.9897 - val_loss: 8.4981 - val_binary_accuracy: 0.9900\n",
      "Epoch 15/200\n",
      "281743/281743 [==============================] - 0s 2us/step - loss: 8.4981 - binary_accuracy: 0.9897 - val_loss: 8.4965 - val_binary_accuracy: 0.9900\n",
      "Epoch 16/200\n",
      "281743/281743 [==============================] - 1s 2us/step - loss: 8.4965 - binary_accuracy: 0.9897 - val_loss: 8.4949 - val_binary_accuracy: 0.9901\n",
      "Epoch 17/200\n",
      "281743/281743 [==============================] - 1s 2us/step - loss: 8.4949 - binary_accuracy: 0.9897 - val_loss: 8.4966 - val_binary_accuracy: 0.9901\n",
      "Epoch 18/200\n",
      "281743/281743 [==============================] - 0s 2us/step - loss: 8.4964 - binary_accuracy: 0.9897 - val_loss: 8.4953 - val_binary_accuracy: 0.9900\n",
      "Epoch 19/200\n",
      "281743/281743 [==============================] - 0s 2us/step - loss: 8.4953 - binary_accuracy: 0.9899 - val_loss: 8.4943 - val_binary_accuracy: 0.9933\n",
      "Epoch 20/200\n",
      "281743/281743 [==============================] - 0s 2us/step - loss: 8.4944 - binary_accuracy: 0.9930 - val_loss: 8.4997 - val_binary_accuracy: 0.9933\n",
      "Epoch 21/200\n",
      "281743/281743 [==============================] - 1s 2us/step - loss: 8.4998 - binary_accuracy: 0.9930 - val_loss: 8.4911 - val_binary_accuracy: 0.9934\n",
      "Epoch 22/200\n",
      "281743/281743 [==============================] - 0s 2us/step - loss: 8.4864 - binary_accuracy: 0.9931 - val_loss: 8.4847 - val_binary_accuracy: 0.9898\n",
      "Epoch 23/200\n",
      "281743/281743 [==============================] - 1s 2us/step - loss: 8.4849 - binary_accuracy: 0.9928 - val_loss: 8.4854 - val_binary_accuracy: 0.9934\n",
      "Epoch 24/200\n",
      "281743/281743 [==============================] - 0s 2us/step - loss: 8.4847 - binary_accuracy: 0.9931 - val_loss: 8.4980 - val_binary_accuracy: 0.9934\n",
      "Epoch 25/200\n",
      "281743/281743 [==============================] - 0s 2us/step - loss: 8.4888 - binary_accuracy: 0.9930 - val_loss: 8.4842 - val_binary_accuracy: 0.9934\n",
      "Epoch 26/200\n",
      "281743/281743 [==============================] - 1s 2us/step - loss: 8.4843 - binary_accuracy: 0.9927 - val_loss: 8.4841 - val_binary_accuracy: 0.9934\n",
      "Epoch 27/200\n",
      "281743/281743 [==============================] - 0s 2us/step - loss: 8.4841 - binary_accuracy: 0.9896 - val_loss: 8.4908 - val_binary_accuracy: 0.9899\n",
      "Epoch 28/200\n",
      "281743/281743 [==============================] - 0s 2us/step - loss: 8.4842 - binary_accuracy: 0.9897 - val_loss: 8.4976 - val_binary_accuracy: 0.9899\n",
      "Epoch 29/200\n",
      "281743/281743 [==============================] - 1s 2us/step - loss: 8.4979 - binary_accuracy: 0.9897 - val_loss: 8.4943 - val_binary_accuracy: 0.9899\n",
      "Epoch 30/200\n",
      "281743/281743 [==============================] - 0s 2us/step - loss: 8.4843 - binary_accuracy: 0.9896 - val_loss: 8.4838 - val_binary_accuracy: 0.9899\n",
      "Epoch 31/200\n",
      "281743/281743 [==============================] - 0s 2us/step - loss: 8.4841 - binary_accuracy: 0.9895 - val_loss: 8.4831 - val_binary_accuracy: 0.9899\n",
      "Epoch 32/200\n",
      "281743/281743 [==============================] - 1s 2us/step - loss: 8.4834 - binary_accuracy: 0.9900 - val_loss: 8.4829 - val_binary_accuracy: 0.9899\n",
      "Epoch 33/200\n",
      "281743/281743 [==============================] - 1s 2us/step - loss: 8.4836 - binary_accuracy: 0.9896 - val_loss: 8.4834 - val_binary_accuracy: 0.9900\n",
      "Epoch 34/200\n",
      "281743/281743 [==============================] - 0s 2us/step - loss: 8.4836 - binary_accuracy: 0.9897 - val_loss: 8.4841 - val_binary_accuracy: 0.9900\n",
      "Epoch 35/200\n",
      "281743/281743 [==============================] - 1s 2us/step - loss: 8.4843 - binary_accuracy: 0.9899 - val_loss: 8.4844 - val_binary_accuracy: 0.9899\n",
      "Epoch 36/200\n",
      "281743/281743 [==============================] - 0s 2us/step - loss: 8.4837 - binary_accuracy: 0.9904 - val_loss: 8.4848 - val_binary_accuracy: 0.9900\n",
      "Epoch 37/200\n",
      "281743/281743 [==============================] - 1s 2us/step - loss: 8.4829 - binary_accuracy: 0.9905 - val_loss: 8.4828 - val_binary_accuracy: 0.9908\n",
      "Epoch 38/200\n",
      "281743/281743 [==============================] - 0s 2us/step - loss: 8.4827 - binary_accuracy: 0.9907 - val_loss: 8.4825 - val_binary_accuracy: 0.9935\n",
      "Epoch 39/200\n",
      "281743/281743 [==============================] - 0s 2us/step - loss: 8.4828 - binary_accuracy: 0.9922 - val_loss: 8.4899 - val_binary_accuracy: 0.9908\n",
      "Epoch 40/200\n",
      "281743/281743 [==============================] - 0s 2us/step - loss: 8.4830 - binary_accuracy: 0.9907 - val_loss: 8.4822 - val_binary_accuracy: 0.9908\n",
      "Epoch 41/200\n",
      "281743/281743 [==============================] - 0s 2us/step - loss: 8.4826 - binary_accuracy: 0.9906 - val_loss: 8.4838 - val_binary_accuracy: 0.9907\n",
      "Epoch 42/200\n",
      "281743/281743 [==============================] - 0s 2us/step - loss: 8.4838 - binary_accuracy: 0.9906 - val_loss: 8.4822 - val_binary_accuracy: 0.9907\n",
      "Epoch 43/200\n",
      "281743/281743 [==============================] - 0s 2us/step - loss: 8.4827 - binary_accuracy: 0.9906 - val_loss: 8.4836 - val_binary_accuracy: 0.9907\n",
      "Epoch 44/200\n",
      "281743/281743 [==============================] - 0s 2us/step - loss: 8.4829 - binary_accuracy: 0.9905 - val_loss: 8.4966 - val_binary_accuracy: 0.9906\n",
      "Epoch 45/200\n",
      "281743/281743 [==============================] - 0s 2us/step - loss: 8.4834 - binary_accuracy: 0.9907 - val_loss: 8.4831 - val_binary_accuracy: 0.9907\n",
      "Epoch 46/200\n",
      "281743/281743 [==============================] - 0s 2us/step - loss: 8.4830 - binary_accuracy: 0.9906 - val_loss: 8.4855 - val_binary_accuracy: 0.9907\n",
      "Epoch 47/200\n",
      "281743/281743 [==============================] - 0s 2us/step - loss: 8.4831 - binary_accuracy: 0.9907 - val_loss: 8.4895 - val_binary_accuracy: 0.9907\n",
      "Epoch 48/200\n",
      "281743/281743 [==============================] - 0s 2us/step - loss: 8.4832 - binary_accuracy: 0.9906 - val_loss: 8.4890 - val_binary_accuracy: 0.9907\n",
      "Epoch 49/200\n",
      "281743/281743 [==============================] - 0s 2us/step - loss: 8.4832 - binary_accuracy: 0.9906 - val_loss: 8.4976 - val_binary_accuracy: 0.9906\n",
      "Epoch 50/200\n",
      "281743/281743 [==============================] - 0s 2us/step - loss: 8.4872 - binary_accuracy: 0.9904 - val_loss: 8.4837 - val_binary_accuracy: 0.9904\n"
     ]
    }
   ],
   "source": [
    "input_dim = X_train.shape[1]\n",
    "\n",
    "input_layer = Input(shape=(input_dim, ))\n",
    "n = Dense(12, activation='tanh', activity_regularizer=regularizers.l1(10e-5))(input_layer)\n",
    "n = Dense(6, activation='relu')(n)\n",
    "n = Dense(6, activation='tanh')(n)\n",
    "n = Dense(2, activation='softplus')(n)\n",
    "autoencoder = Model(inputs=input_layer, outputs=n)\n",
    "\n",
    "nb_epoch = 200\n",
    "batch_size = int(train.shape[0]/50)\n",
    "\n",
    "earlystop = EarlyStopping(monitor='val_loss', min_delta=0.000001, patience=10,\n",
    "                          verbose=0, mode='auto')\n",
    "\n",
    "autoencoder.compile(optimizer='adadelta', \n",
    "                    loss='binary_crossentropy', \n",
    "                    metrics=['binary_accuracy'])\n",
    "\n",
    "checkpointer = ModelCheckpoint(filepath=\"model.h5\", verbose=0, save_best_only=True)\n",
    "\n",
    "## Tensorboard is great for diagnostics. We'll leave it out of the example\n",
    "# tensorboard = TensorBoard(log_dir='./logs', histogram_freq=0, write_graph=True, write_images=True)\n",
    "\n",
    "history = autoencoder.fit(x=X_train, y=pd.get_dummies(Y_train.values),\n",
    "                    epochs=nb_epoch,\n",
    "                    batch_size=batch_size,\n",
    "                    shuffle=True,\n",
    "                    validation_split=0.20,\n",
    "                    # callbacks=[checkpointer, tensorboard, earlystop]).history\n",
    "                    callbacks=[checkpointer, earlystop]).history"
   ]
  },
  {
   "cell_type": "markdown",
   "metadata": {},
   "source": [
    "## Results"
   ]
  },
  {
   "cell_type": "code",
   "execution_count": 7,
   "metadata": {},
   "outputs": [
    {
     "name": "stdout",
     "output_type": "stream",
     "text": [
      "Out of sample accuracy = 0.994\n",
      "Out of sample precision = 0.900\n",
      "Out of sample recall = 0.636\n",
      "Out of sample F1 = 0.745\n"
     ]
    },
    {
     "data": {
      "image/png": "[encoded data removed]",
      "text/plain": [
       "<Figure size 432x288 with 2 Axes>"
      ]
     },
     "metadata": {},
     "output_type": "display_data"
    }
   ],
   "source": [
    "my_test_results(autoencoder, X_test, Y_test)"
   ]
  },
  {
   "cell_type": "markdown",
   "metadata": {},
   "source": [
    "* Accuracy - Proportion of predictions that are correct. $\\frac{True Positive + True Negative}{True Positive + True Negative + False Positive + False Negative}$\n",
    "* Precision - True positive over total positive actual cases. $\\frac{True Positive}{True Positive + False Positive}$\n",
    "* Recall - True positive over total positive predicted cases. $\\frac{True Positive}{True Positive + False Negative}$\n",
    "* F1 - A balance between Precision and Recall (harmonic mean of precision and recall) $\\frac{2 * Precision * Recall}{Precision + Recall}$"
   ]
  },
  {
   "cell_type": "markdown",
   "metadata": {},
   "source": [
    "Not great, but could certainly improve with tuning.\n",
    "\n",
    "### Plot loss over iterations\n",
    "Ordinarly using Tensorboard is best for observing training performance. In this case we'll create a plot to keep it in the notebook."
   ]
  },
  {
   "cell_type": "code",
   "execution_count": 8,
   "metadata": {},
   "outputs": [
    {
     "data": {
      "image/png": "[encoded data removed]",
      "text/plain": [
       "<Figure size 432x288 with 1 Axes>"
      ]
     },
     "metadata": {},
     "output_type": "display_data"
    }
   ],
   "source": [
    "plt.plot(history['loss'])\n",
    "plt.plot(history['val_loss'])\n",
    "plt.title('model loss')\n",
    "plt.ylabel('loss')\n",
    "plt.xlabel('epoch')\n",
    "plt.legend(['train', 'test'], loc='upper right');"
   ]
  },
  {
   "cell_type": "markdown",
   "metadata": {},
   "source": [
    "### Summary\n",
    "With a small data set a neural network can be more trouble than it's worth. As the volume and complexity of the data increase, however, the value of a neural network dramatically increases."
   ]
  }
 ],
 "metadata": {
  "kernelspec": {
   "display_name": "Python 3",
   "language": "python",
   "name": "python3"
  },
  "language_info": {
   "codemirror_mode": {
    "name": "ipython",
    "version": 3
   },
   "file_extension": ".py",
   "mimetype": "text/x-python",
   "name": "python",
   "nbconvert_exporter": "python",
   "pygments_lexer": "ipython3",
   "version": "3.6.6"
  }
 },
 "nbformat": 4,
 "nbformat_minor": 2
}
