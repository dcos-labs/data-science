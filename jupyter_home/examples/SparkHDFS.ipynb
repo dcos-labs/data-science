{
 "cells": [
  {
   "cell_type": "markdown",
   "metadata": {},
   "source": [
    "# PySpark with HDFS\n",
    "Import libraries"
   ]
  },
  {
   "cell_type": "code",
   "execution_count": 1,
   "metadata": {},
   "outputs": [
    {
     "data": {
      "text/plain": [
       "Waiting for a Spark session to start..."
      ]
     },
     "metadata": {},
     "output_type": "display_data",
     "source": "user"
    },
    {
     "data": {
      "text/plain": [
       "Waiting for a Spark session to start..."
      ]
     },
     "metadata": {},
     "output_type": "display_data",
     "source": "user"
    }
   ],
   "source": [
    "from pyspark.sql.types import DoubleType, IntegerType\n",
    "from pyspark.sql.functions import lit, udf\n",
    "from pyspark.ml.feature import StringIndexer, VectorAssembler\n",
    "from pyspark.ml import Pipeline\n",
    "from pyspark.ml.classification import RandomForestClassifier as RF, LogisticRegression as LR\n",
    "import warnings\n",
    "warnings.filterwarnings('ignore')"
   ]
  },
  {
   "cell_type": "code",
   "execution_count": 2,
   "metadata": {},
   "outputs": [],
   "source": [
    "def ith_(v, i):\n",
    "    try:\n",
    "        return float(v[i])\n",
    "    except ValueError:\n",
    "        return None\n",
    "\n",
    "ith = udf(ith_, DoubleType())"
   ]
  },
  {
   "cell_type": "markdown",
   "metadata": {},
   "source": [
    "## Load data from HDFS\n",
    "Load data and cast strings to integers<br>\n",
    "Used ../../generate_data.py mydata 1000000 and hdfs dfs -put mydata.csv /"
   ]
  },
  {
   "cell_type": "code",
   "execution_count": 3,
   "metadata": {},
   "outputs": [
    {
     "name": "stdout",
     "output_type": "stream",
     "text": [
      "1000000\n"
     ]
    },
    {
     "data": {
      "text/plain": [
       "[Row(x1=0.08233868872869078, x2=-1.5688842960628786, x3=0.24286278226347638, x4=1.6632669176333197, x5=-0.638417836433558, y=1), Row(x1=-0.0688196903983117, x2=0.23467582062946052, x3=0.9681355622321666, x4=-0.6297384641938888, x5=0.8729121946592299, y=0), Row(x1=-0.2671644068093285, x2=0.6601887170491937, x3=-0.033269126866050346, x4=-0.417056393443199, x5=-0.9561963008953746, y=0), Row(x1=1.8705222962022887, x2=-0.02353846676989591, x3=0.8665311665699504, x4=-2.1866373785552993, x5=0.6339444908592159, y=1), Row(x1=-0.5566611969808073, x2=0.4716568808612375, x3=-1.2678458345274355, x4=1.3686253831257036, x5=0.8072574299126498, y=1), Row(x1=-0.47545895695246654, x2=-1.6658449595941496, x3=1.447444059706974, x4=0.4644738374060886, x5=1.0652560426581885, y=0), Row(x1=1.399884785512308, x2=1.5972976628674194, x3=-0.5567132761483432, x4=-2.1678218520132, x5=0.9733066975630595, y=0), Row(x1=1.198401852092572, x2=0.5813847750589491, x3=0.4990789029506081, x4=-1.5154440818994184, x5=-0.15970281030711053, y=1), Row(x1=0.9078553993315983, x2=-0.143900167399784, x3=0.13788132997429284, x4=-1.8685524730773804, x5=0.19120721376656843, y=0), Row(x1=0.08860961407184198, x2=0.35635370578712566, x3=1.0203716727807302, x4=-1.8755663891973011, x5=0.6579353123919294, y=1)]"
      ]
     },
     "execution_count": 3,
     "metadata": {},
     "output_type": "execute_result"
    }
   ],
   "source": [
    "df_load = spark.read.csv('hdfs:///mydata.csv', header='true')\n",
    "df_load = df_load.withColumn('x1', df_load['x1'].cast(DoubleType()))\n",
    "df_load = df_load.withColumn('x2', df_load['x2'].cast(DoubleType()))\n",
    "df_load = df_load.withColumn('x3', df_load['x3'].cast(DoubleType()))\n",
    "df_load = df_load.withColumn('x4', df_load['x4'].cast(DoubleType()))\n",
    "df_load = df_load.withColumn('x5', df_load['x5'].cast(DoubleType()))\n",
    "df_load = df_load.withColumn('y', df_load['y'].cast(IntegerType()))\n",
    "\n",
    "print(df_load.count())\n",
    "df_load.head(10)"
   ]
  },
  {
   "cell_type": "markdown",
   "metadata": {},
   "source": [
    "## Create pipeline\n",
    "Assign features and dependent variable.<br>\n",
    "Build random forest model"
   ]
  },
  {
   "cell_type": "code",
   "execution_count": 4,
   "metadata": {},
   "outputs": [
    {
     "name": "stdout",
     "output_type": "stream",
     "text": [
      "199995\n"
     ]
    },
    {
     "data": {
      "text/plain": [
       "[Row(probability=DenseVector([1.0, 0.0]), label=0.0), Row(probability=DenseVector([0.9961, 0.0039]), label=0.0), Row(probability=DenseVector([0.3586, 0.6414]), label=1.0), Row(probability=DenseVector([0.4463, 0.5537]), label=0.0), Row(probability=DenseVector([0.4261, 0.5739]), label=1.0), Row(probability=DenseVector([0.3126, 0.6874]), label=1.0), Row(probability=DenseVector([0.3285, 0.6715]), label=1.0), Row(probability=DenseVector([0.3285, 0.6715]), label=1.0), Row(probability=DenseVector([0.3285, 0.6715]), label=1.0), Row(probability=DenseVector([0.4463, 0.5537]), label=1.0)]"
      ]
     },
     "execution_count": 4,
     "metadata": {},
     "output_type": "execute_result"
    }
   ],
   "source": [
    "featureCols = ['x1', 'x2', 'x3', 'x4', 'x5']\n",
    "assembler_features = VectorAssembler(inputCols=featureCols, outputCol='features')\n",
    "labelIndexer = StringIndexer(inputCol='y', outputCol='label')\n",
    "\n",
    "dfX = [assembler_features, labelIndexer]\n",
    "pipeline = Pipeline(stages=dfX)\n",
    "\n",
    "allData = pipeline.fit(df_load).transform(df_load)\n",
    "\n",
    "trainingData, testData = allData.randomSplit([0.8, 0.2], seed=0)\n",
    "rf = RF(labelCol='label', featuresCol='features', numTrees=20, featureSubsetStrategy='all')\n",
    "fit = rf.fit(trainingData)\n",
    "transformed = fit.transform(testData)\n",
    "results = transformed.select(['probability', 'label'])\n",
    "\n",
    "print(results.count())\n",
    "results.head(10)"
   ]
  },
  {
   "cell_type": "markdown",
   "metadata": {},
   "source": [
    "## Create truth table\n",
    "Extract probability from Dense Vector<br>\n",
    "Create group by using Spark. This scales, but may not with python dataframes."
   ]
  },
  {
   "cell_type": "code",
   "execution_count": 5,
   "metadata": {},
   "outputs": [
    {
     "name": "stdout",
     "output_type": "stream",
     "text": [
      "Out of sample accuracy = 0.6623815595389885\n",
      "Out of sample precision = 0.6008046104673405\n",
      "Out of sample recall = 0.9717952812487525\n",
      "Out of sample F1 = 0.7425399028452464\n"
     ]
    },
    {
     "data": {
      "text/plain": [
       "   label  prediction  count\n",
       "0    0.0           0  35103\n",
       "1    0.0           1  64696\n",
       "2    1.0           0   2826\n",
       "3    1.0           1  97370"
      ]
     },
     "execution_count": 5,
     "metadata": {},
     "output_type": "execute_result"
    }
   ],
   "source": [
    "validation = results.select(['label', (ith(\"probability\", lit(1)) > 0.5).cast('integer').alias('prediction')])\n",
    "truth_table = validation.groupBy(['label', 'prediction']).count().orderBy(['label', 'prediction'])\n",
    "\n",
    "tt = truth_table.toPandas()\n",
    "tp = tt[((tt.label == 1) & (tt.prediction == 1))]['count'].values[0]\n",
    "fp = tt[((tt.label == 0) & (tt.prediction == 1))]['count'].values[0]\n",
    "fn = tt[((tt.label == 1) & (tt.prediction == 0))]['count'].values[0]\n",
    "tn = tt[((tt.label == 0) & (tt.prediction == 0))]['count'].values[0]\n",
    "\n",
    "accuracy = (tp + tn)/(tp + tn + fp + fn)\n",
    "precision = tp/(tp + fp)\n",
    "recall = tp/(tp + fn)\n",
    "f1 = (2.0 * precision*recall)/(precision+recall)\n",
    "\n",
    "print(\"Out of sample accuracy =\", accuracy)\n",
    "print(\"Out of sample precision =\", precision)\n",
    "print(\"Out of sample recall =\", recall)\n",
    "print(\"Out of sample F1 =\", f1)\n",
    "tt"
   ]
  },
  {
   "cell_type": "markdown",
   "metadata": {},
   "source": [
    "## Aside\n",
    "To make the model a bit of a challenege the dependent variable was a circle inside a circle."
   ]
  },
  {
   "cell_type": "markdown",
   "metadata": {},
   "source": [
    "![Sample](data_sample.png)"
   ]
  },
  {
   "cell_type": "markdown",
   "metadata": {},
   "source": [
    "Nothing to do with Spark or HDFS, but here is a fun way to demonstrate how domain knowledge and improved data/transformation can be more valuable than model parameters."
   ]
  },
  {
   "cell_type": "code",
   "execution_count": 6,
   "metadata": {},
   "outputs": [
    {
     "name": "stdout",
     "output_type": "stream",
     "text": [
      "Out of sample accuracy = 0.9770594264856621\n",
      "Out of sample precision = 0.9766101694915255\n",
      "Out of sample recall = 0.9776238572398099\n",
      "Out of sample F1 = 0.977116750458862\n"
     ]
    },
    {
     "data": {
      "text/plain": [
       "   label  prediction  count\n",
       "0    0.0           0  97453\n",
       "1    0.0           1   2346\n",
       "2    1.0           0   2242\n",
       "3    1.0           1  97954"
      ]
     },
     "execution_count": 6,
     "metadata": {},
     "output_type": "execute_result"
    }
   ],
   "source": [
    "df_load = df_load.withColumn(\"x6\", ((df_load[\"x1\"] + df_load[\"x2\"] + df_load[\"x3\"] + df_load[\"x4\"])**2 + df_load[\"x5\"]**2).cast(DoubleType()))\n",
    "\n",
    "featureCols = ['x1', 'x2', 'x3', 'x4', 'x5', 'x6']\n",
    "assembler_features = VectorAssembler(inputCols=featureCols, outputCol='features')\n",
    "labelIndexer = StringIndexer(inputCol='y', outputCol=\"label\")\n",
    "\n",
    "dfX = [assembler_features, labelIndexer]\n",
    "pipeline = Pipeline(stages=dfX)\n",
    "\n",
    "allData = pipeline.fit(df_load).transform(df_load)\n",
    "\n",
    "trainingData, testData = allData.randomSplit([0.8, 0.2], seed=0)\n",
    "lr = LR(labelCol='label', featuresCol='features')\n",
    "fit = lr.fit(trainingData)\n",
    "transformed = fit.transform(testData)\n",
    "results = transformed.select(['probability', 'label'])\n",
    "\n",
    "validation = results.select(['label', (ith(\"probability\", lit(1)) > 0.5).cast('integer').alias('prediction')])\n",
    "truth_table = validation.groupBy(['label', 'prediction']).count().orderBy(['label', 'prediction'])\n",
    "\n",
    "tt = truth_table.toPandas()\n",
    "tp = tt[((tt.label == 1) & (tt.prediction == 1))]['count'].values[0]\n",
    "fp = tt[((tt.label == 0) & (tt.prediction == 1))]['count'].values[0]\n",
    "fn = tt[((tt.label == 1) & (tt.prediction == 0))]['count'].values[0]\n",
    "tn = tt[((tt.label == 0) & (tt.prediction == 0))]['count'].values[0]\n",
    "\n",
    "accuracy = (tp + tn)/(tp + tn + fp + fn)\n",
    "precision = tp/(tp + fp)\n",
    "recall = tp/(tp + fn)\n",
    "f1 = (2.0 * precision*recall)/(precision+recall)\n",
    "\n",
    "print(\"Out of sample accuracy =\", accuracy)\n",
    "print(\"Out of sample precision =\", precision)\n",
    "print(\"Out of sample recall =\", recall)\n",
    "print(\"Out of sample F1 =\", f1)\n",
    "tt"
   ]
  },
  {
   "cell_type": "markdown",
   "metadata": {},
   "source": [
    "Granted this data is clearly rigged and the knowledge of how it's rigged is exploited for the transform. <br>\n",
    "It's worth noting, however, because many real business problems can also be solved with greater intuition more than more data or model tuning."
   ]
  }
 ],
 "metadata": {
  "kernelspec": {
   "display_name": "Apache Toree - PySpark",
   "language": "python",
   "name": "apache_toree_pyspark"
  },
  "language_info": {
   "codemirror_mode": "text/x-ipython",
   "file_extension": ".py",
   "mimetype": "text/x-ipython",
   "name": "python",
   "pygments_lexer": "python",
   "version": "3.6.6\n"
  }
 },
 "nbformat": 4,
 "nbformat_minor": 2
}
