{
 "cells": [
  {
   "cell_type": "markdown",
   "metadata": {},
   "source": [
    "# PySpark with HDFS\n",
    "Import libraries"
   ]
  },
  {
   "cell_type": "code",
   "execution_count": 1,
   "metadata": {},
   "outputs": [
    {
     "data": {
      "text/plain": [
       "Waiting for a Spark session to start..."
      ]
     },
     "metadata": {},
     "output_type": "display_data",
     "source": "user"
    },
    {
     "data": {
      "text/plain": [
       "Waiting for a Spark session to start..."
      ]
     },
     "metadata": {},
     "output_type": "display_data",
     "source": "user"
    }
   ],
   "source": [
    "from pyspark.sql.types import DoubleType, IntegerType\n",
    "from pyspark.sql.functions import lit, udf\n",
    "from pyspark.ml.feature import StringIndexer, VectorAssembler\n",
    "from pyspark.ml import Pipeline\n",
    "from pyspark.ml.classification import RandomForestClassifier as RF, LogisticRegression as LR\n",
    "import warnings\n",
    "warnings.filterwarnings('ignore')"
   ]
  },
  {
   "cell_type": "code",
   "execution_count": 2,
   "metadata": {},
   "outputs": [],
   "source": [
    "def ith_(v, i):\n",
    "    try:\n",
    "        return float(v[i])\n",
    "    except ValueError:\n",
    "        return None\n",
    "\n",
    "ith = udf(ith_, DoubleType())"
   ]
  },
  {
   "cell_type": "markdown",
   "metadata": {},
   "source": [
    "## Load data from HDFS\n",
    "Load data and cast strings to integers"
   ]
  },
  {
   "cell_type": "code",
   "execution_count": 3,
   "metadata": {},
   "outputs": [
    {
     "name": "stdout",
     "output_type": "stream",
     "text": [
      "1000000\n"
     ]
    },
    {
     "data": {
      "text/plain": [
       "[Row(x1=0.573615760542304, x2=-2.171103312705866, x3=0.33234832858709734, x4=0.5760633009829951, x5=0.3729207146549865, y=1), Row(x1=1.8713740240113563, x2=-1.9397738416892814, x3=1.2198104328861257, x4=-0.40002603975409445, x5=-0.607469321569246, y=0), Row(x1=0.014450262868191439, x2=1.0224354654164514, x3=0.03880004750212669, x4=-0.5093390663383718, x5=-0.47011830877007615, y=1), Row(x1=1.5028009781945337, x2=-0.228723004531617, x3=-0.7155399060064932, x4=-1.355270244500279, x5=-0.5376843716520238, y=0), Row(x1=-0.10719587543140312, x2=-0.39417886738578733, x3=-0.8481786345419119, x4=1.0933419513740712, x5=0.7800847487554594, y=1), Row(x1=-0.4695187927230554, x2=0.7052725236230953, x3=0.6574679910558906, x4=-0.8009112522259348, x5=-1.0236797375976776, y=0), Row(x1=1.096753842921396, x2=0.546347657969521, x3=-0.03218979568966823, x4=-0.7534462749672464, x5=0.5170169803217873, y=0), Row(x1=1.444313845827984, x2=-0.5534152717021814, x3=-0.02582451137750769, x4=-0.6179044638322294, x5=0.9756354905297805, y=0), Row(x1=-0.29948808854228376, x2=-0.20041503127640856, x3=-2.0063328581156585, x4=1.8944517560054304, x5=0.5151769294642623, y=1), Row(x1=1.6134257646437697, x2=-0.5338469638481286, x3=0.3324505860535711, x4=-1.2242992775828858, x5=0.7870412302150133, y=1)]"
      ]
     },
     "execution_count": 3,
     "metadata": {},
     "output_type": "execute_result"
    }
   ],
   "source": [
    "df_load = spark.read.csv('hdfs:///mydata.csv', header='true')\n",
    "df_load = df_load.withColumn('x1', df_load['x1'].cast(DoubleType()))\n",
    "df_load = df_load.withColumn('x2', df_load['x2'].cast(DoubleType()))\n",
    "df_load = df_load.withColumn('x3', df_load['x3'].cast(DoubleType()))\n",
    "df_load = df_load.withColumn('x4', df_load['x4'].cast(DoubleType()))\n",
    "df_load = df_load.withColumn('x5', df_load['x5'].cast(DoubleType()))\n",
    "df_load = df_load.withColumn('y', df_load['y'].cast(IntegerType()))\n",
    "\n",
    "print(df_load.count())\n",
    "df_load.head(10)"
   ]
  },
  {
   "cell_type": "markdown",
   "metadata": {},
   "source": [
    "## Create pipeline\n",
    "Assign features and dependent variable.<br>\n",
    "Build random forest model"
   ]
  },
  {
   "cell_type": "code",
   "execution_count": 11,
   "metadata": {},
   "outputs": [
    {
     "name": "stdout",
     "output_type": "stream",
     "text": [
      "199994\n"
     ]
    },
    {
     "data": {
      "text/plain": [
       "[Row(probability=DenseVector([0.4334, 0.5666]), label=0.0), Row(probability=DenseVector([0.9851, 0.0149]), label=0.0), Row(probability=DenseVector([0.3276, 0.6724]), label=1.0), Row(probability=DenseVector([0.8264, 0.1736]), label=0.0), Row(probability=DenseVector([0.4334, 0.5666]), label=0.0), Row(probability=DenseVector([0.4274, 0.5726]), label=0.0), Row(probability=DenseVector([0.4274, 0.5726]), label=1.0), Row(probability=DenseVector([0.3276, 0.6724]), label=1.0), Row(probability=DenseVector([0.332, 0.668]), label=0.0), Row(probability=DenseVector([0.366, 0.634]), label=1.0)]"
      ]
     },
     "execution_count": 11,
     "metadata": {},
     "output_type": "execute_result"
    }
   ],
   "source": [
    "featureCols = ['x1', 'x2', 'x3', 'x4', 'x5']\n",
    "assembler_features = VectorAssembler(inputCols=featureCols, outputCol='features')\n",
    "labelIndexer = StringIndexer(inputCol='y', outputCol='label')\n",
    "\n",
    "dfX = [assembler_features, labelIndexer]\n",
    "pipeline = Pipeline(stages=dfX)\n",
    "\n",
    "allData = pipeline.fit(df_load).transform(df_load)\n",
    "\n",
    "trainingData, testData = allData.randomSplit([0.8, 0.2], seed=0)\n",
    "rf = RF(labelCol='label', featuresCol='features', numTrees=20, featureSubsetStrategy='all')\n",
    "fit = rf.fit(trainingData)\n",
    "transformed = fit.transform(testData)\n",
    "results = transformed.select(['probability', 'label'])\n",
    "\n",
    "print(results.count())\n",
    "results.head(10)"
   ]
  },
  {
   "cell_type": "markdown",
   "metadata": {},
   "source": [
    "## Create truth table\n",
    "Extract probability from Dense Vector<br>\n",
    "Create group by using Spark. This scales, but may not with python dataframes."
   ]
  },
  {
   "cell_type": "code",
   "execution_count": 12,
   "metadata": {},
   "outputs": [
    {
     "name": "stdout",
     "output_type": "stream",
     "text": [
      "Out of sample accuracy = 0.6627648829464884\n",
      "Out of sample precision = 0.6000147791441643\n",
      "Out of sample recall = 0.9750720518773517\n",
      "Out of sample F1 = 0.7428893827744082\n"
     ]
    },
    {
     "data": {
      "text/plain": [
       "   label  prediction  count\n",
       "0    0.0           0  35112\n",
       "1    0.0           1  64954\n",
       "2    1.0           0   2491\n",
       "3    1.0           1  97437"
      ]
     },
     "execution_count": 12,
     "metadata": {},
     "output_type": "execute_result"
    }
   ],
   "source": [
    "validation = results.select(['label', (ith(\"probability\", lit(1)) > 0.5).cast('integer').alias('prediction')])\n",
    "truth_table = validation.groupBy(['label', 'prediction']).count().orderBy(['label', 'prediction'])\n",
    "\n",
    "tt = truth_table.toPandas()\n",
    "tp = tt[((tt.label == 1) & (tt.prediction == 1))]['count'].values[0]\n",
    "fp = tt[((tt.label == 0) & (tt.prediction == 1))]['count'].values[0]\n",
    "fn = tt[((tt.label == 1) & (tt.prediction == 0))]['count'].values[0]\n",
    "tn = tt[((tt.label == 0) & (tt.prediction == 0))]['count'].values[0]\n",
    "\n",
    "accuracy = (tp + tn)/(tp + tn + fp + fn)\n",
    "precision = tp/(tp + fp)\n",
    "recall = tp/(tp + fn)\n",
    "f1 = (2.0 * precision*recall)/(precision+recall)\n",
    "\n",
    "print(\"Out of sample accuracy =\", accuracy)\n",
    "print(\"Out of sample precision =\", precision)\n",
    "print(\"Out of sample recall =\", recall)\n",
    "print(\"Out of sample F1 =\", f1)\n",
    "tt"
   ]
  },
  {
   "cell_type": "markdown",
   "metadata": {},
   "source": [
    "## Aside\n",
    "To make the model a bit of a challenege the dependent variable was a circle inside a circle."
   ]
  },
  {
   "cell_type": "markdown",
   "metadata": {},
   "source": [
    "![Sample](data_sample.png)"
   ]
  },
  {
   "cell_type": "markdown",
   "metadata": {},
   "source": [
    "Nothing to do with Spark or HDFS, but here is a fun way to demonstrate how domain knowledge and improved data/transformation can be more valuable than model parameters."
   ]
  },
  {
   "cell_type": "code",
   "execution_count": 7,
   "metadata": {},
   "outputs": [
    {
     "name": "stdout",
     "output_type": "stream",
     "text": [
      "Out of sample accuracy = 0.9776193285798574\n",
      "Out of sample precision = 0.9763644348624586\n",
      "Out of sample recall = 0.9789048114642542\n",
      "Out of sample F1 = 0.9776329728757321\n"
     ]
    },
    {
     "data": {
      "text/plain": [
       "   label  prediction  count\n",
       "0    0.0           0  97698\n",
       "1    0.0           1   2368\n",
       "2    1.0           0   2108\n",
       "3    1.0           1  97820"
      ]
     },
     "execution_count": 7,
     "metadata": {},
     "output_type": "execute_result"
    }
   ],
   "source": [
    "df_load = df_load.withColumn(\"x6\", ((df_load[\"x1\"] + df_load[\"x2\"] + df_load[\"x3\"] + df_load[\"x4\"])**2 + df_load[\"x5\"]**2).cast(DoubleType()))\n",
    "\n",
    "featureCols = ['x1', 'x2', 'x3', 'x4', 'x5', 'x6']\n",
    "assembler_features = VectorAssembler(inputCols=featureCols, outputCol='features')\n",
    "labelIndexer = StringIndexer(inputCol='y', outputCol=\"label\")\n",
    "\n",
    "dfX = [assembler_features, labelIndexer]\n",
    "pipeline = Pipeline(stages=dfX)\n",
    "\n",
    "allData = pipeline.fit(df_load).transform(df_load)\n",
    "\n",
    "trainingData, testData = allData.randomSplit([0.8, 0.2], seed=0)\n",
    "lr = LR(labelCol='label', featuresCol='features')\n",
    "fit = lr.fit(trainingData)\n",
    "transformed = fit.transform(testData)\n",
    "results = transformed.select(['probability', 'label'])\n",
    "\n",
    "validation = results.select(['label', (ith(\"probability\", lit(1)) > 0.5).cast('integer').alias('prediction')])\n",
    "truth_table = validation.groupBy(['label', 'prediction']).count().orderBy(['label', 'prediction'])\n",
    "\n",
    "tt = truth_table.toPandas()\n",
    "tp = tt[((tt.label == 1) & (tt.prediction == 1))]['count'].values[0]\n",
    "fp = tt[((tt.label == 0) & (tt.prediction == 1))]['count'].values[0]\n",
    "fn = tt[((tt.label == 1) & (tt.prediction == 0))]['count'].values[0]\n",
    "tn = tt[((tt.label == 0) & (tt.prediction == 0))]['count'].values[0]\n",
    "\n",
    "accuracy = (tp + tn)/(tp + tn + fp + fn)\n",
    "precision = tp/(tp + fp)\n",
    "recall = tp/(tp + fn)\n",
    "f1 = (2.0 * precision*recall)/(precision+recall)\n",
    "\n",
    "print(\"Out of sample accuracy =\", accuracy)\n",
    "print(\"Out of sample precision =\", precision)\n",
    "print(\"Out of sample recall =\", recall)\n",
    "print(\"Out of sample F1 =\", f1)\n",
    "tt"
   ]
  },
  {
   "cell_type": "markdown",
   "metadata": {},
   "source": [
    "Granted this data is clearly rigged and the knowledge of how it's rigged is exploited for the transform. <br>\n",
    "It's worth noting, however, because many real business problems can also be solved with greater intuition more than more data or model tuning."
   ]
  }
 ],
 "metadata": {
  "kernelspec": {
   "display_name": "Apache Toree - PySpark",
   "language": "python",
   "name": "apache_toree_pyspark"
  },
  "language_info": {
   "codemirror_mode": "text/x-ipython",
   "file_extension": ".py",
   "mimetype": "text/x-ipython",
   "name": "python",
   "pygments_lexer": "python",
   "version": "3.6.6\n"
  }
 },
 "nbformat": 4,
 "nbformat_minor": 2
}
